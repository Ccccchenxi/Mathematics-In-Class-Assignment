{
 "cells": [
  {
   "cell_type": "markdown",
   "id": "6be91daa-f57b-4c37-bbd1-fd0e1f40cd75",
   "metadata": {},
   "source": [
    "## Import Libraries"
   ]
  },
  {
   "cell_type": "code",
   "execution_count": 1,
   "id": "6f7fbbbf",
   "metadata": {},
   "outputs": [],
   "source": [
    "import pandas as pd\n",
    "import seaborn as sns\n",
    "import matplotlib.pyplot as plt\n",
    "import numpy as np\n",
    "from sklearn.model_selection import train_test_split\n",
    "from sklearn.preprocessing import StandardScaler\n",
    "from sklearn.svm import SVC\n",
    "from sklearn.metrics import accuracy_score\n",
    "from sklearn.metrics import classification_report, accuracy_score, confusion_matrix"
   ]
  },
  {
   "cell_type": "markdown",
   "id": "5bf0a75a-3459-4ced-be30-72ec4b662c48",
   "metadata": {},
   "source": [
    "## Data Loading and Preparation"
   ]
  },
  {
   "cell_type": "code",
   "execution_count": 2,
   "id": "491b3b2f",
   "metadata": {},
   "outputs": [],
   "source": [
    "df = pd.read_csv(\"data.csv\")\n",
    "# Select features and target variable\n",
    "X = df[['tempo', 'beats', 'chroma_stft', 'rmse', 'spectral_centroid', 'spectral_bandwidth', 'rolloff', 'zero_crossing_rate']]\n",
    "y = df['label']\n",
    "# Split the data into training and testing sets\n",
    "X_train, X_test, y_train, y_test = train_test_split(X, y, test_size=0.2, random_state=42)"
   ]
  },
  {
   "cell_type": "code",
   "execution_count": 3,
   "id": "096cdcb1",
   "metadata": {},
   "outputs": [
    {
     "data": {
      "text/html": [
       "<style>#sk-container-id-1 {color: black;}#sk-container-id-1 pre{padding: 0;}#sk-container-id-1 div.sk-toggleable {background-color: white;}#sk-container-id-1 label.sk-toggleable__label {cursor: pointer;display: block;width: 100%;margin-bottom: 0;padding: 0.3em;box-sizing: border-box;text-align: center;}#sk-container-id-1 label.sk-toggleable__label-arrow:before {content: \"▸\";float: left;margin-right: 0.25em;color: #696969;}#sk-container-id-1 label.sk-toggleable__label-arrow:hover:before {color: black;}#sk-container-id-1 div.sk-estimator:hover label.sk-toggleable__label-arrow:before {color: black;}#sk-container-id-1 div.sk-toggleable__content {max-height: 0;max-width: 0;overflow: hidden;text-align: left;background-color: #f0f8ff;}#sk-container-id-1 div.sk-toggleable__content pre {margin: 0.2em;color: black;border-radius: 0.25em;background-color: #f0f8ff;}#sk-container-id-1 input.sk-toggleable__control:checked~div.sk-toggleable__content {max-height: 200px;max-width: 100%;overflow: auto;}#sk-container-id-1 input.sk-toggleable__control:checked~label.sk-toggleable__label-arrow:before {content: \"▾\";}#sk-container-id-1 div.sk-estimator input.sk-toggleable__control:checked~label.sk-toggleable__label {background-color: #d4ebff;}#sk-container-id-1 div.sk-label input.sk-toggleable__control:checked~label.sk-toggleable__label {background-color: #d4ebff;}#sk-container-id-1 input.sk-hidden--visually {border: 0;clip: rect(1px 1px 1px 1px);clip: rect(1px, 1px, 1px, 1px);height: 1px;margin: -1px;overflow: hidden;padding: 0;position: absolute;width: 1px;}#sk-container-id-1 div.sk-estimator {font-family: monospace;background-color: #f0f8ff;border: 1px dotted black;border-radius: 0.25em;box-sizing: border-box;margin-bottom: 0.5em;}#sk-container-id-1 div.sk-estimator:hover {background-color: #d4ebff;}#sk-container-id-1 div.sk-parallel-item::after {content: \"\";width: 100%;border-bottom: 1px solid gray;flex-grow: 1;}#sk-container-id-1 div.sk-label:hover label.sk-toggleable__label {background-color: #d4ebff;}#sk-container-id-1 div.sk-serial::before {content: \"\";position: absolute;border-left: 1px solid gray;box-sizing: border-box;top: 0;bottom: 0;left: 50%;z-index: 0;}#sk-container-id-1 div.sk-serial {display: flex;flex-direction: column;align-items: center;background-color: white;padding-right: 0.2em;padding-left: 0.2em;position: relative;}#sk-container-id-1 div.sk-item {position: relative;z-index: 1;}#sk-container-id-1 div.sk-parallel {display: flex;align-items: stretch;justify-content: center;background-color: white;position: relative;}#sk-container-id-1 div.sk-item::before, #sk-container-id-1 div.sk-parallel-item::before {content: \"\";position: absolute;border-left: 1px solid gray;box-sizing: border-box;top: 0;bottom: 0;left: 50%;z-index: -1;}#sk-container-id-1 div.sk-parallel-item {display: flex;flex-direction: column;z-index: 1;position: relative;background-color: white;}#sk-container-id-1 div.sk-parallel-item:first-child::after {align-self: flex-end;width: 50%;}#sk-container-id-1 div.sk-parallel-item:last-child::after {align-self: flex-start;width: 50%;}#sk-container-id-1 div.sk-parallel-item:only-child::after {width: 0;}#sk-container-id-1 div.sk-dashed-wrapped {border: 1px dashed gray;margin: 0 0.4em 0.5em 0.4em;box-sizing: border-box;padding-bottom: 0.4em;background-color: white;}#sk-container-id-1 div.sk-label label {font-family: monospace;font-weight: bold;display: inline-block;line-height: 1.2em;}#sk-container-id-1 div.sk-label-container {text-align: center;}#sk-container-id-1 div.sk-container {/* jupyter's `normalize.less` sets `[hidden] { display: none; }` but bootstrap.min.css set `[hidden] { display: none !important; }` so we also need the `!important` here to be able to override the default hidden behavior on the sphinx rendered scikit-learn.org. See: https://github.com/scikit-learn/scikit-learn/issues/21755 */display: inline-block !important;position: relative;}#sk-container-id-1 div.sk-text-repr-fallback {display: none;}</style><div id=\"sk-container-id-1\" class=\"sk-top-container\"><div class=\"sk-text-repr-fallback\"><pre>SVC(degree=1, kernel=&#x27;poly&#x27;)</pre><b>In a Jupyter environment, please rerun this cell to show the HTML representation or trust the notebook. <br />On GitHub, the HTML representation is unable to render, please try loading this page with nbviewer.org.</b></div><div class=\"sk-container\" hidden><div class=\"sk-item\"><div class=\"sk-estimator sk-toggleable\"><input class=\"sk-toggleable__control sk-hidden--visually\" id=\"sk-estimator-id-1\" type=\"checkbox\" checked><label for=\"sk-estimator-id-1\" class=\"sk-toggleable__label sk-toggleable__label-arrow\">SVC</label><div class=\"sk-toggleable__content\"><pre>SVC(degree=1, kernel=&#x27;poly&#x27;)</pre></div></div></div></div></div>"
      ],
      "text/plain": [
       "SVC(degree=1, kernel='poly')"
      ]
     },
     "execution_count": 3,
     "metadata": {},
     "output_type": "execute_result"
    }
   ],
   "source": [
    "# Standardize the features\n",
    "scaler = StandardScaler()\n",
    "X_train_scaled = scaler.fit_transform(X_train)\n",
    "X_test_scaled = scaler.transform(X_test)\n",
    "\n",
    "#use kernel='poly' to transform dataset !\n",
    "model = SVC(kernel='poly', degree=1,  gamma='scale')\n",
    "#  change\n",
    "model.fit(X_train_scaled, y_train)"
   ]
  },
  {
   "cell_type": "code",
   "execution_count": 4,
   "id": "65b5f55c",
   "metadata": {},
   "outputs": [
    {
     "data": {
      "text/plain": [
       "array(['disco', 'pop', 'pop', 'metal', 'pop', 'metal', 'metal', 'jazz',\n",
       "       'metal', 'blues', 'rock', 'jazz', 'metal', 'rock', 'reggae',\n",
       "       'reggae', 'blues', 'disco', 'pop', 'disco', 'blues', 'blues',\n",
       "       'hiphop', 'jazz', 'rock', 'country', 'classical', 'blues', 'metal',\n",
       "       'rock', 'reggae', 'classical', 'metal', 'metal', 'metal',\n",
       "       'classical', 'disco', 'disco', 'jazz', 'blues', 'disco', 'jazz',\n",
       "       'metal', 'disco', 'country', 'blues', 'country', 'metal', 'hiphop',\n",
       "       'jazz', 'jazz', 'hiphop', 'blues', 'jazz', 'metal', 'reggae',\n",
       "       'metal', 'blues', 'pop', 'blues', 'jazz', 'jazz', 'jazz',\n",
       "       'classical', 'metal', 'metal', 'metal', 'disco', 'blues',\n",
       "       'classical', 'classical', 'metal', 'classical', 'pop', 'country',\n",
       "       'blues', 'disco', 'country', 'jazz', 'disco', 'rock', 'blues',\n",
       "       'jazz', 'rock', 'disco', 'jazz', 'blues', 'country', 'pop', 'rock',\n",
       "       'rock', 'metal', 'blues', 'blues', 'country', 'hiphop', 'hiphop',\n",
       "       'jazz', 'reggae', 'reggae', 'disco', 'hiphop', 'metal', 'reggae',\n",
       "       'metal', 'metal', 'pop', 'jazz', 'classical', 'rock', 'blues',\n",
       "       'pop', 'jazz', 'pop', 'metal', 'hiphop', 'classical', 'blues',\n",
       "       'pop', 'blues', 'rock', 'pop', 'pop', 'blues', 'blues', 'jazz',\n",
       "       'jazz', 'reggae', 'blues', 'reggae', 'jazz', 'jazz', 'country',\n",
       "       'metal', 'jazz', 'blues', 'classical', 'blues', 'hiphop', 'jazz',\n",
       "       'blues', 'blues', 'pop', 'country', 'blues', 'blues', 'rock',\n",
       "       'blues', 'blues', 'disco', 'metal', 'classical', 'disco', 'hiphop',\n",
       "       'country', 'metal', 'hiphop', 'reggae', 'hiphop', 'reggae', 'jazz',\n",
       "       'pop', 'metal', 'metal', 'reggae', 'disco', 'disco', 'metal',\n",
       "       'disco', 'pop', 'rock', 'hiphop', 'classical', 'rock', 'hiphop',\n",
       "       'disco', 'disco', 'country', 'disco', 'metal', 'metal', 'hiphop',\n",
       "       'rock', 'blues', 'jazz', 'classical', 'pop', 'hiphop', 'rock',\n",
       "       'pop', 'metal', 'reggae', 'metal', 'classical', 'disco', 'reggae',\n",
       "       'rock', 'pop', 'metal', 'blues'], dtype=object)"
      ]
     },
     "execution_count": 4,
     "metadata": {},
     "output_type": "execute_result"
    }
   ],
   "source": [
    "# Make predictions on the test set\n",
    "y_pred = model.predict(X_test_scaled)\n",
    "y_pred "
   ]
  },
  {
   "cell_type": "code",
   "execution_count": 5,
   "id": "d1443259",
   "metadata": {},
   "outputs": [
    {
     "data": {
      "text/plain": [
       "0.44"
      ]
     },
     "execution_count": 5,
     "metadata": {},
     "output_type": "execute_result"
    }
   ],
   "source": [
    "# Evaluate the model\n",
    "accuracy = accuracy_score(y_test, y_pred)\n",
    "accuracy"
   ]
  },
  {
   "cell_type": "markdown",
   "id": "e8eefc35-4454-43b6-9897-3372d5f65b94",
   "metadata": {},
   "source": [
    "The SVM model with a polynomial kernel (of degree 1) achieved an accuracy of 44% on the test dataset. This indicates that the model correctly predicted the label for 44% of the instances in the test set."
   ]
  },
  {
   "cell_type": "code",
   "execution_count": null,
   "id": "e41521b8-2028-4d1a-b679-3c9dfb0dbf0c",
   "metadata": {},
   "outputs": [],
   "source": []
  }
 ],
 "metadata": {
  "kernelspec": {
   "display_name": "Python 3 (ipykernel)",
   "language": "python",
   "name": "python3"
  },
  "language_info": {
   "codemirror_mode": {
    "name": "ipython",
    "version": 3
   },
   "file_extension": ".py",
   "mimetype": "text/x-python",
   "name": "python",
   "nbconvert_exporter": "python",
   "pygments_lexer": "ipython3",
   "version": "3.9.18"
  }
 },
 "nbformat": 4,
 "nbformat_minor": 5
}
