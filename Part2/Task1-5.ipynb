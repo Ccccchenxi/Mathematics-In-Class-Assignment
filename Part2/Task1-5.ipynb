{
 "cells": [
  {
   "cell_type": "markdown",
   "id": "49a6dfc9-b996-4cf5-8ae9-38067d4791b4",
   "metadata": {},
   "source": [
    "## 1 Identify type and tasks possible"
   ]
  },
  {
   "cell_type": "markdown",
   "id": "e2066e4f-5577-4e4a-a843-b9e29cd8c03d",
   "metadata": {},
   "source": [
    "### data.cvs"
   ]
  },
  {
   "cell_type": "code",
   "execution_count": 16,
   "id": "a769502f-6179-4990-94d0-4766b9a4097e",
   "metadata": {},
   "outputs": [
    {
     "name": "stdout",
     "output_type": "stream",
     "text": [
      "Variables Info: filename               object\n",
      "tempo                 float64\n",
      "beats                   int64\n",
      "chroma_stft           float64\n",
      "rmse                  float64\n",
      "spectral_centroid     float64\n",
      "spectral_bandwidth    float64\n",
      "rolloff               float64\n",
      "zero_crossing_rate    float64\n",
      "mfcc1                 float64\n",
      "mfcc2                 float64\n",
      "mfcc3                 float64\n",
      "mfcc4                 float64\n",
      "mfcc5                 float64\n",
      "mfcc6                 float64\n",
      "mfcc7                 float64\n",
      "mfcc8                 float64\n",
      "mfcc9                 float64\n",
      "mfcc10                float64\n",
      "mfcc11                float64\n",
      "mfcc12                float64\n",
      "mfcc13                float64\n",
      "mfcc14                float64\n",
      "mfcc15                float64\n",
      "mfcc16                float64\n",
      "mfcc17                float64\n",
      "mfcc18                float64\n",
      "mfcc19                float64\n",
      "mfcc20                float64\n",
      "label                  object\n",
      "dtype: object\n",
      "Basic Statistics:              tempo        beats  chroma_stft         rmse  spectral_centroid  \\\n",
      "count  1000.000000  1000.000000  1000.000000  1000.000000        1000.000000   \n",
      "mean    119.601702    57.138000     0.378656     0.130929        2201.834226   \n",
      "std      28.297367    14.225728     0.081689     0.065685         715.961347   \n",
      "min      54.978391    18.000000     0.171782     0.005276         569.930721   \n",
      "25%      99.384014    47.000000     0.319641     0.086625        1627.793931   \n",
      "50%     117.453835    56.000000     0.383075     0.122448        2209.468780   \n",
      "75%     135.999178    65.250000     0.435974     0.175793        2691.969702   \n",
      "max     234.907670   117.000000     0.663573     0.398012        4434.439444   \n",
      "\n",
      "       spectral_bandwidth      rolloff  zero_crossing_rate        mfcc1  \\\n",
      "count         1000.000000  1000.000000         1000.000000  1000.000000   \n",
      "mean          2242.559613  4571.702159            0.103637  -144.479173   \n",
      "std            526.337663  1574.770035            0.041834   100.235661   \n",
      "min            897.994319   749.062137            0.021701  -552.064063   \n",
      "25%           1907.136505  3380.956639            0.070281  -200.695133   \n",
      "50%           2221.408983  4658.671830            0.099539  -120.206072   \n",
      "75%           2578.474352  5534.197785            0.132007   -73.895019   \n",
      "max           3509.578677  8676.405868            0.274829    42.034587   \n",
      "\n",
      "             mfcc2  ...       mfcc11       mfcc12       mfcc13       mfcc14  \\\n",
      "count  1000.000000  ...  1000.000000  1000.000000  1000.000000  1000.000000   \n",
      "mean     99.552199  ...    -6.021121     4.471604    -4.797232     1.781547   \n",
      "std      31.331904  ...     6.819018     6.717312     6.170919     5.009489   \n",
      "min      -1.527148  ...   -28.052265   -15.805227   -27.542309   -12.598773   \n",
      "25%      76.811480  ...   -10.966826    -0.551576    -9.363372    -1.640080   \n",
      "50%      98.452551  ...    -5.920161     3.891842    -4.199810     1.879424   \n",
      "75%     119.893638  ...    -1.004241     9.706133    -0.161017     5.155264   \n",
      "max     193.096518  ...    17.421038    23.037571    13.054333    18.161663   \n",
      "\n",
      "            mfcc15       mfcc16       mfcc17       mfcc18       mfcc19  \\\n",
      "count  1000.000000  1000.000000  1000.000000  1000.000000  1000.000000   \n",
      "mean     -3.870275     1.147988    -3.967431     0.507303    -2.328779   \n",
      "std       4.874423     4.579110     4.550650     3.869088     3.755574   \n",
      "min     -17.545474   -15.693589   -17.227765   -11.975698   -18.504188   \n",
      "25%      -7.164838    -1.857098    -7.194297    -2.003979    -4.670281   \n",
      "50%      -3.614473     1.211944    -4.059109     0.669788    -2.391261   \n",
      "75%      -0.323536     4.350694    -0.842968     3.112518     0.149070   \n",
      "max      12.357588    13.468803    11.489994    15.379257    14.686910   \n",
      "\n",
      "            mfcc20  \n",
      "count  1000.000000  \n",
      "mean     -1.094875  \n",
      "std       3.837561  \n",
      "min     -19.935203  \n",
      "25%      -3.368000  \n",
      "50%      -1.155198  \n",
      "75%       1.303739  \n",
      "max      15.368966  \n",
      "\n",
      "[8 rows x 28 columns]\n",
      "Missing Values: filename              0\n",
      "tempo                 0\n",
      "beats                 0\n",
      "chroma_stft           0\n",
      "rmse                  0\n",
      "spectral_centroid     0\n",
      "spectral_bandwidth    0\n",
      "rolloff               0\n",
      "zero_crossing_rate    0\n",
      "mfcc1                 0\n",
      "mfcc2                 0\n",
      "mfcc3                 0\n",
      "mfcc4                 0\n",
      "mfcc5                 0\n",
      "mfcc6                 0\n",
      "mfcc7                 0\n",
      "mfcc8                 0\n",
      "mfcc9                 0\n",
      "mfcc10                0\n",
      "mfcc11                0\n",
      "mfcc12                0\n",
      "mfcc13                0\n",
      "mfcc14                0\n",
      "mfcc15                0\n",
      "mfcc16                0\n",
      "mfcc17                0\n",
      "mfcc18                0\n",
      "mfcc19                0\n",
      "mfcc20                0\n",
      "label                 0\n",
      "dtype: int64\n",
      "Correlations:                        tempo     beats  chroma_stft      rmse  \\\n",
      "tempo               1.000000  0.966179     0.030640 -0.043503   \n",
      "beats               0.966179  1.000000     0.080684  0.004607   \n",
      "chroma_stft         0.030640  0.080684     1.000000  0.499577   \n",
      "rmse               -0.043503  0.004607     0.499577  1.000000   \n",
      "spectral_centroid  -0.014415  0.035843     0.615524  0.509984   \n",
      "spectral_bandwidth -0.039283  0.011287     0.517482  0.529768   \n",
      "rolloff            -0.020564  0.033489     0.597910  0.537718   \n",
      "zero_crossing_rate  0.019935  0.056517     0.554735  0.332119   \n",
      "mfcc1               0.011271  0.082156     0.659294  0.807260   \n",
      "mfcc2               0.007200 -0.041055    -0.598495 -0.483765   \n",
      "mfcc3              -0.097491 -0.099869    -0.054431  0.139339   \n",
      "mfcc4               0.029352  0.063518     0.264226  0.008695   \n",
      "mfcc5              -0.082223 -0.095422    -0.010116  0.108700   \n",
      "mfcc6               0.043894  0.088048     0.416953  0.125782   \n",
      "mfcc7              -0.083500 -0.080289     0.067536  0.167592   \n",
      "mfcc8               0.037268  0.082829     0.509829  0.179000   \n",
      "mfcc9              -0.073588 -0.077289     0.115721  0.216041   \n",
      "mfcc10              0.032041  0.076971     0.489380  0.186025   \n",
      "mfcc11             -0.078778 -0.075456     0.072668  0.117410   \n",
      "mfcc12             -0.028215  0.015129     0.516620  0.183310   \n",
      "mfcc13             -0.045415 -0.052768    -0.081725  0.012818   \n",
      "mfcc14              0.010452  0.050075     0.417161  0.163065   \n",
      "mfcc15             -0.055127 -0.063695    -0.143455 -0.011243   \n",
      "mfcc16              0.024411  0.044109     0.332396  0.083827   \n",
      "mfcc17             -0.076208 -0.093770    -0.163450 -0.029601   \n",
      "mfcc18             -0.010242  0.006229     0.269791  0.118253   \n",
      "mfcc19             -0.061399 -0.078372    -0.089906  0.031517   \n",
      "mfcc20             -0.027405 -0.027907     0.281775  0.124827   \n",
      "\n",
      "                    spectral_centroid  spectral_bandwidth   rolloff  \\\n",
      "tempo                       -0.014415           -0.039283 -0.020564   \n",
      "beats                        0.035843            0.011287  0.033489   \n",
      "chroma_stft                  0.615524            0.517482  0.597910   \n",
      "rmse                         0.509984            0.529768  0.537718   \n",
      "spectral_centroid            1.000000            0.904438  0.979633   \n",
      "spectral_bandwidth           0.904438            1.000000  0.956194   \n",
      "rolloff                      0.979633            0.956194  1.000000   \n",
      "zero_crossing_rate           0.874755            0.612325  0.779809   \n",
      "mfcc1                        0.720831            0.648373  0.721746   \n",
      "mfcc2                       -0.940171           -0.896660 -0.934305   \n",
      "mfcc3                        0.187999            0.494052  0.295590   \n",
      "mfcc4                       -0.136839           -0.279636 -0.156114   \n",
      "mfcc5                        0.069032            0.302955  0.124208   \n",
      "mfcc6                        0.017572           -0.066098  0.034629   \n",
      "mfcc7                        0.215744            0.391085  0.249704   \n",
      "mfcc8                        0.134347            0.027736  0.137618   \n",
      "mfcc9                        0.288783            0.409573  0.311073   \n",
      "mfcc10                       0.192851            0.063432  0.184945   \n",
      "mfcc11                       0.152749            0.289572  0.173940   \n",
      "mfcc12                       0.174946            0.038078  0.162827   \n",
      "mfcc13                       0.051260            0.205272  0.081738   \n",
      "mfcc14                       0.170689            0.054740  0.158572   \n",
      "mfcc15                       0.022393            0.127649  0.032146   \n",
      "mfcc16                       0.153678            0.027062  0.132326   \n",
      "mfcc17                       0.027403            0.104914  0.039624   \n",
      "mfcc18                       0.228048            0.114624  0.205010   \n",
      "mfcc19                       0.027761            0.098151  0.048121   \n",
      "mfcc20                       0.269598            0.187932  0.256644   \n",
      "\n",
      "                    zero_crossing_rate     mfcc1     mfcc2  ...    mfcc11  \\\n",
      "tempo                         0.019935  0.011271  0.007200  ... -0.078778   \n",
      "beats                         0.056517  0.082156 -0.041055  ... -0.075456   \n",
      "chroma_stft                   0.554735  0.659294 -0.598495  ...  0.072668   \n",
      "rmse                          0.332119  0.807260 -0.483765  ...  0.117410   \n",
      "spectral_centroid             0.874755  0.720831 -0.940171  ...  0.152749   \n",
      "spectral_bandwidth            0.612325  0.648373 -0.896660  ...  0.289572   \n",
      "rolloff                       0.779809  0.721746 -0.934305  ...  0.173940   \n",
      "zero_crossing_rate            1.000000  0.634139 -0.760127  ... -0.044591   \n",
      "mfcc1                         0.634139  1.000000 -0.638911  ... -0.027021   \n",
      "mfcc2                        -0.760127 -0.638911  1.000000  ... -0.203910   \n",
      "mfcc3                        -0.179883 -0.101078 -0.268841  ...  0.427344   \n",
      "mfcc4                        -0.007672  0.108676  0.049740  ... -0.380199   \n",
      "mfcc5                        -0.201045 -0.114746 -0.152303  ...  0.640893   \n",
      "mfcc6                         0.069507  0.235657 -0.092587  ... -0.427880   \n",
      "mfcc7                        -0.030584  0.007181 -0.264085  ...  0.721442   \n",
      "mfcc8                         0.197509  0.331664 -0.192085  ... -0.406561   \n",
      "mfcc9                         0.075159  0.053417 -0.322575  ...  0.715777   \n",
      "mfcc10                        0.275797  0.340284 -0.216329  ... -0.346307   \n",
      "mfcc11                       -0.044591 -0.027021 -0.203910  ...  1.000000   \n",
      "mfcc12                        0.263046  0.331619 -0.176990  ... -0.297756   \n",
      "mfcc13                       -0.142050 -0.171697 -0.110567  ...  0.761336   \n",
      "mfcc14                        0.240698  0.252206 -0.195790  ... -0.151537   \n",
      "mfcc15                       -0.107069 -0.200787 -0.064465  ...  0.653625   \n",
      "mfcc16                        0.249474  0.185659 -0.160305  ... -0.178282   \n",
      "mfcc17                       -0.076885 -0.208503 -0.051064  ...  0.502422   \n",
      "mfcc18                        0.297152  0.199769 -0.202594  ... -0.131169   \n",
      "mfcc19                       -0.074580 -0.121578 -0.027793  ...  0.441854   \n",
      "mfcc20                        0.305031  0.195352 -0.238651  ...  0.004831   \n",
      "\n",
      "                      mfcc12    mfcc13    mfcc14    mfcc15    mfcc16  \\\n",
      "tempo              -0.028215 -0.045415  0.010452 -0.055127  0.024411   \n",
      "beats               0.015129 -0.052768  0.050075 -0.063695  0.044109   \n",
      "chroma_stft         0.516620 -0.081725  0.417161 -0.143455  0.332396   \n",
      "rmse                0.183310  0.012818  0.163065 -0.011243  0.083827   \n",
      "spectral_centroid   0.174946  0.051260  0.170689  0.022393  0.153678   \n",
      "spectral_bandwidth  0.038078  0.205272  0.054740  0.127649  0.027062   \n",
      "rolloff             0.162827  0.081738  0.158572  0.032146  0.132326   \n",
      "zero_crossing_rate  0.263046 -0.142050  0.240698 -0.107069  0.249474   \n",
      "mfcc1               0.331619 -0.171697  0.252206 -0.200787  0.185659   \n",
      "mfcc2              -0.176990 -0.110567 -0.195790 -0.064465 -0.160305   \n",
      "mfcc3              -0.338699  0.425021 -0.262859  0.298628 -0.298056   \n",
      "mfcc4               0.582581 -0.459186  0.449924 -0.441892  0.408342   \n",
      "mfcc5              -0.460168  0.631514 -0.375353  0.532977 -0.340977   \n",
      "mfcc6               0.714965 -0.475411  0.567097 -0.479754  0.457754   \n",
      "mfcc7              -0.428241  0.682146 -0.332026  0.601191 -0.298410   \n",
      "mfcc8               0.759870 -0.476718  0.663166 -0.458134  0.561007   \n",
      "mfcc9              -0.343762  0.674149 -0.244135  0.647245 -0.196258   \n",
      "mfcc10              0.808013 -0.423277  0.698918 -0.362441  0.603697   \n",
      "mfcc11             -0.297756  0.761336 -0.151537  0.653625 -0.178282   \n",
      "mfcc12              1.000000 -0.358698  0.734650 -0.356658  0.612554   \n",
      "mfcc13             -0.358698  1.000000 -0.171904  0.733808 -0.166632   \n",
      "mfcc14              0.734650 -0.171904  1.000000 -0.117349  0.659951   \n",
      "mfcc15             -0.356658  0.733808 -0.117349  1.000000 -0.032244   \n",
      "mfcc16              0.612554 -0.166632  0.659951 -0.032244  1.000000   \n",
      "mfcc17             -0.299842  0.567213 -0.103740  0.675224  0.068716   \n",
      "mfcc18              0.458382 -0.213094  0.475659 -0.024606  0.593795   \n",
      "mfcc19             -0.231399  0.458753 -0.122131  0.444407 -0.005264   \n",
      "mfcc20              0.386585 -0.016693  0.382341 -0.033528  0.408393   \n",
      "\n",
      "                      mfcc17    mfcc18    mfcc19    mfcc20  \n",
      "tempo              -0.076208 -0.010242 -0.061399 -0.027405  \n",
      "beats              -0.093770  0.006229 -0.078372 -0.027907  \n",
      "chroma_stft        -0.163450  0.269791 -0.089906  0.281775  \n",
      "rmse               -0.029601  0.118253  0.031517  0.124827  \n",
      "spectral_centroid   0.027403  0.228048  0.027761  0.269598  \n",
      "spectral_bandwidth  0.104914  0.114624  0.098151  0.187932  \n",
      "rolloff             0.039624  0.205010  0.048121  0.256644  \n",
      "zero_crossing_rate -0.076885  0.297152 -0.074580  0.305031  \n",
      "mfcc1              -0.208503  0.199769 -0.121578  0.195352  \n",
      "mfcc2              -0.051064 -0.202594 -0.027793 -0.238651  \n",
      "mfcc3               0.250401 -0.190987  0.230076 -0.076974  \n",
      "mfcc4              -0.405826  0.151417 -0.278504  0.097734  \n",
      "mfcc5               0.359205 -0.304606  0.335695 -0.135316  \n",
      "mfcc6              -0.405206  0.301947 -0.329563  0.143795  \n",
      "mfcc7               0.491173 -0.240983  0.423826 -0.025132  \n",
      "mfcc8              -0.401106  0.388224 -0.328326  0.210015  \n",
      "mfcc9               0.556023 -0.095909  0.417147  0.041220  \n",
      "mfcc10             -0.287156  0.502890 -0.227671  0.333502  \n",
      "mfcc11              0.502422 -0.131169  0.441854  0.004831  \n",
      "mfcc12             -0.299842  0.458382 -0.231399  0.386585  \n",
      "mfcc13              0.567213 -0.213094  0.458753 -0.016693  \n",
      "mfcc14             -0.103740  0.475659 -0.122131  0.382341  \n",
      "mfcc15              0.675224 -0.024606  0.444407 -0.033528  \n",
      "mfcc16              0.068716  0.593795 -0.005264  0.408393  \n",
      "mfcc17              1.000000  0.170634  0.554918  0.117700  \n",
      "mfcc18              0.170634  1.000000  0.189824  0.448973  \n",
      "mfcc19              0.554918  0.189824  1.000000  0.339555  \n",
      "mfcc20              0.117700  0.448973  0.339555  1.000000  \n",
      "\n",
      "[28 rows x 28 columns]\n"
     ]
    }
   ],
   "source": [
    "import pandas as pd\n",
    "\n",
    "# Load the dataset\n",
    "data_csv = pd.read_csv('data.csv')\n",
    "\n",
    "# Inspecting Variables\n",
    "\n",
    "variables_info_data = data_csv.dtypes\n",
    "\n",
    "# Exploratory Analysis\n",
    "basic_stats_data = data_csv.describe()\n",
    "missing_values_data = data_csv.isnull().sum()\n",
    "\n",
    "# Exclude non-numeric columns for correlation\n",
    "numeric_cols_data = data_csv.select_dtypes(include=['float64', 'int64'])\n",
    "correlations_data = numeric_cols_data.corr()\n",
    "\n",
    "# Output\n",
    "print(\"Variables Info:\", variables_info_data)\n",
    "print(\"Basic Statistics:\", basic_stats_data)\n",
    "print(\"Missing Values:\", missing_values_data)\n",
    "print(\"Correlations:\", correlations_data)"
   ]
  },
  {
   "cell_type": "markdown",
   "id": "c53ae74b-0c3d-443c-8d33-f390832f4122",
   "metadata": {},
   "source": [
    "##### **Data Type**: Non-Linear, Multilabel\r",
    "- **Possible Task**: Classification\n",
    "- **Justification**:\n",
    "- a. Domain Knowledge: Features like tempo, beats, and spectral properties are typically used in music genre classification.\n",
    "- b. Exploratory Analysis: Visualizing spectral features across different genres to identify patterns.\n",
    "- c. Inferential Analysis: Could involve examining how different audio features are associated with specific genres.\n",
    "- d. Predictive Analysis: Using classification algorithms like neural networks or SVMs to classify music into genres based on audio features.\r",
    "ures."
   ]
  },
  {
   "cell_type": "markdown",
   "id": "bc8adf96-7a85-42f3-b4d2-9f0f286d68a3",
   "metadata": {},
   "source": [
    "### Housing.cvs"
   ]
  },
  {
   "cell_type": "code",
   "execution_count": 18,
   "id": "6340c5c9-21e4-4643-b250-f2ac47014414",
   "metadata": {
    "scrolled": true
   },
   "outputs": [
    {
     "name": "stdout",
     "output_type": "stream",
     "text": [
      "Variables Info: price                int64\n",
      "area                 int64\n",
      "bedrooms             int64\n",
      "bathrooms            int64\n",
      "stories              int64\n",
      "mainroad            object\n",
      "guestroom           object\n",
      "basement            object\n",
      "hotwaterheating     object\n",
      "airconditioning     object\n",
      "parking              int64\n",
      "prefarea            object\n",
      "furnishingstatus    object\n",
      "dtype: object\n",
      "Basic Statistics:               price          area    bedrooms   bathrooms     stories  \\\n",
      "count  5.450000e+02    545.000000  545.000000  545.000000  545.000000   \n",
      "mean   4.766729e+06   5150.541284    2.965138    1.286239    1.805505   \n",
      "std    1.870440e+06   2170.141023    0.738064    0.502470    0.867492   \n",
      "min    1.750000e+06   1650.000000    1.000000    1.000000    1.000000   \n",
      "25%    3.430000e+06   3600.000000    2.000000    1.000000    1.000000   \n",
      "50%    4.340000e+06   4600.000000    3.000000    1.000000    2.000000   \n",
      "75%    5.740000e+06   6360.000000    3.000000    2.000000    2.000000   \n",
      "max    1.330000e+07  16200.000000    6.000000    4.000000    4.000000   \n",
      "\n",
      "          parking  \n",
      "count  545.000000  \n",
      "mean     0.693578  \n",
      "std      0.861586  \n",
      "min      0.000000  \n",
      "25%      0.000000  \n",
      "50%      0.000000  \n",
      "75%      1.000000  \n",
      "max      3.000000  \n",
      "Missing Values: price               0\n",
      "area                0\n",
      "bedrooms            0\n",
      "bathrooms           0\n",
      "stories             0\n",
      "mainroad            0\n",
      "guestroom           0\n",
      "basement            0\n",
      "hotwaterheating     0\n",
      "airconditioning     0\n",
      "parking             0\n",
      "prefarea            0\n",
      "furnishingstatus    0\n",
      "dtype: int64\n",
      "Correlations:               price      area  bedrooms  bathrooms   stories   parking\n",
      "price      1.000000  0.535997  0.366494   0.517545  0.420712  0.384394\n",
      "area       0.535997  1.000000  0.151858   0.193820  0.083996  0.352980\n",
      "bedrooms   0.366494  0.151858  1.000000   0.373930  0.408564  0.139270\n",
      "bathrooms  0.517545  0.193820  0.373930   1.000000  0.326165  0.177496\n",
      "stories    0.420712  0.083996  0.408564   0.326165  1.000000  0.045547\n",
      "parking    0.384394  0.352980  0.139270   0.177496  0.045547  1.000000\n"
     ]
    }
   ],
   "source": [
    "# Load the dataset\n",
    "housing_csv = pd.read_csv('Housing.csv')\n",
    "\n",
    "# Inspecting Variables\n",
    "variables_info_housing = housing_csv.dtypes\n",
    "\n",
    "# Exploratory Analysis\n",
    "basic_stats_housing = housing_csv.describe()\n",
    "missing_values_housing = housing_csv.isnull().sum()\n",
    "\n",
    "# Exclude non-numeric columns for correlation\n",
    "numeric_cols_housing = housing_csv.select_dtypes(include=['float64', 'int64'])\n",
    "correlations_housing = numeric_cols_housing.corr()\n",
    "\n",
    "# Output\n",
    "print(\"Variables Info:\", variables_info_housing)\n",
    "print(\"Basic Statistics:\", basic_stats_housing)\n",
    "print(\"Missing Values:\", missing_values_housing)\n",
    "print(\"Correlations:\", correlations_housing)"
   ]
  },
  {
   "cell_type": "markdown",
   "id": "299589c8-9f49-4e8e-9be9-824da05bd3f3",
   "metadata": {},
   "source": [
    "##### **Data Type**: NonLinear, Multilabel\n",
    "- **Possible Task**: Classification\n",
    "- **Justification**:\n",
    "- a. Domain Knowledge: The dataset contains numeric variables like price, area, number of bedrooms, bathrooms, etc., which are typically used in predicting house prices.\n",
    "- b. Exploratory Analysis: Visualization of price distribution and correlation matrix can help in understanding relationships between variables.\n",
    "- c. Inferential Analysis: Regression analysis can be used to infer how different features like area, number of bedrooms influence the price.\n",
    "- d. Predictive Analysis: Linear regression can be a suitable method as the target variable (price) is continuous."
   ]
  },
  {
   "cell_type": "markdown",
   "id": "cd3c52eb-b431-4969-8bfd-76ff4b03eeac",
   "metadata": {},
   "source": [
    "### MASTER_PhonesmartdataAll_CCI_AdvStats.csv"
   ]
  },
  {
   "cell_type": "code",
   "execution_count": 19,
   "id": "7f1f9974-56af-4e67-9bee-e6f597bb7c6e",
   "metadata": {
    "scrolled": true
   },
   "outputs": [
    {
     "name": "stdout",
     "output_type": "stream",
     "text": [
      "Variables Info: Year                           int64\n",
      "Age                          float64\n",
      "GenderNum                    float64\n",
      "AutismQuotient               float64\n",
      "STAI                         float64\n",
      "BRIEF_Total                  float64\n",
      "Device                       float64\n",
      "DailyAvgMins                 float64\n",
      "DailyAvePickups              float64\n",
      "VS_RT_correct_Conjunction    float64\n",
      "VS_RT_correct_Single         float64\n",
      "dtype: object\n",
      "Basic Statistics:               Year         Age   GenderNum  AutismQuotient        STAI  \\\n",
      "count   548.000000  523.000000  538.000000      542.000000  539.000000   \n",
      "mean   2020.711679   30.330784    1.791822        3.238007   47.421150   \n",
      "std       0.731187    8.502397    0.433005        1.746556   11.564704   \n",
      "min    2020.000000   16.000000    1.000000        0.000000   20.000000   \n",
      "25%    2020.000000   25.000000    2.000000        2.000000   39.000000   \n",
      "50%    2021.000000   29.000000    2.000000        3.000000   47.000000   \n",
      "75%    2021.000000   34.000000    2.000000        4.000000   55.000000   \n",
      "max    2022.000000  101.000000    3.000000       10.000000   77.000000   \n",
      "\n",
      "       BRIEF_Total  Device  DailyAvgMins  DailyAvePickups  \\\n",
      "count   541.000000     0.0    365.000000       131.000000   \n",
      "mean     51.049908     NaN    272.879452       104.763359   \n",
      "std      24.936722     NaN    149.404392        41.183236   \n",
      "min       0.000000     NaN      0.000000        32.000000   \n",
      "25%      33.000000     NaN    170.000000        76.000000   \n",
      "50%      50.000000     NaN    245.000000       100.000000   \n",
      "75%      67.000000     NaN    348.000000       123.500000   \n",
      "max     140.000000     NaN   1157.000000       272.000000   \n",
      "\n",
      "       VS_RT_correct_Conjunction  VS_RT_correct_Single  \n",
      "count                 548.000000            548.000000  \n",
      "mean                  942.567275            841.467643  \n",
      "std                   195.525323            172.026277  \n",
      "min                   521.500000            503.000000  \n",
      "25%                   823.408271            730.852768  \n",
      "50%                   903.227792            796.977778  \n",
      "75%                  1012.179167            886.148194  \n",
      "max                  2125.150000           1896.975000  \n",
      "Missing Values: Year                           0\n",
      "Age                           25\n",
      "GenderNum                     10\n",
      "AutismQuotient                 6\n",
      "STAI                           9\n",
      "BRIEF_Total                    7\n",
      "Device                       548\n",
      "DailyAvgMins                 183\n",
      "DailyAvePickups              417\n",
      "VS_RT_correct_Conjunction      0\n",
      "VS_RT_correct_Single           0\n",
      "dtype: int64\n",
      "Correlations:                                Year       Age  GenderNum  AutismQuotient  \\\n",
      "Year                       1.000000  0.021229   0.004100        0.087059   \n",
      "Age                        0.021229  1.000000  -0.006275       -0.054856   \n",
      "GenderNum                  0.004100 -0.006275   1.000000       -0.049996   \n",
      "AutismQuotient             0.087059 -0.054856  -0.049996        1.000000   \n",
      "STAI                       0.067843 -0.117021   0.103621        0.255425   \n",
      "BRIEF_Total                0.108651 -0.074986   0.032155        0.297901   \n",
      "Device                          NaN       NaN        NaN             NaN   \n",
      "DailyAvgMins              -0.055887 -0.149204   0.050957       -0.020248   \n",
      "DailyAvePickups            0.306103 -0.330445   0.074474        0.091234   \n",
      "VS_RT_correct_Conjunction  0.029299  0.334541  -0.016801       -0.005033   \n",
      "VS_RT_correct_Single       0.056883  0.319380  -0.002073       -0.011153   \n",
      "\n",
      "                               STAI  BRIEF_Total  Device  DailyAvgMins  \\\n",
      "Year                       0.067843     0.108651     NaN     -0.055887   \n",
      "Age                       -0.117021    -0.074986     NaN     -0.149204   \n",
      "GenderNum                  0.103621     0.032155     NaN      0.050957   \n",
      "AutismQuotient             0.255425     0.297901     NaN     -0.020248   \n",
      "STAI                       1.000000     0.630691     NaN      0.025333   \n",
      "BRIEF_Total                0.630691     1.000000     NaN      0.098929   \n",
      "Device                          NaN          NaN     NaN           NaN   \n",
      "DailyAvgMins               0.025333     0.098929     NaN      1.000000   \n",
      "DailyAvePickups            0.153904     0.109504     NaN      0.233224   \n",
      "VS_RT_correct_Conjunction -0.101623    -0.007730     NaN     -0.055141   \n",
      "VS_RT_correct_Single      -0.093489     0.001566     NaN     -0.039010   \n",
      "\n",
      "                           DailyAvePickups  VS_RT_correct_Conjunction  \\\n",
      "Year                              0.306103                   0.029299   \n",
      "Age                              -0.330445                   0.334541   \n",
      "GenderNum                         0.074474                  -0.016801   \n",
      "AutismQuotient                    0.091234                  -0.005033   \n",
      "STAI                              0.153904                  -0.101623   \n",
      "BRIEF_Total                       0.109504                  -0.007730   \n",
      "Device                                 NaN                        NaN   \n",
      "DailyAvgMins                      0.233224                  -0.055141   \n",
      "DailyAvePickups                   1.000000                  -0.202835   \n",
      "VS_RT_correct_Conjunction        -0.202835                   1.000000   \n",
      "VS_RT_correct_Single             -0.300990                   0.903221   \n",
      "\n",
      "                           VS_RT_correct_Single  \n",
      "Year                                   0.056883  \n",
      "Age                                    0.319380  \n",
      "GenderNum                             -0.002073  \n",
      "AutismQuotient                        -0.011153  \n",
      "STAI                                  -0.093489  \n",
      "BRIEF_Total                            0.001566  \n",
      "Device                                      NaN  \n",
      "DailyAvgMins                          -0.039010  \n",
      "DailyAvePickups                       -0.300990  \n",
      "VS_RT_correct_Conjunction              0.903221  \n",
      "VS_RT_correct_Single                   1.000000  \n"
     ]
    }
   ],
   "source": [
    "# Load the dataset\n",
    "phonesmart_csv = pd.read_csv('MASTER_PhonesmartdataAll_CCI_AdvStats.csv')\n",
    "\n",
    "# Convert columns that should be numeric but are read as object due to empty strings or other non-numeric values\n",
    "for col in phonesmart_csv.columns:\n",
    "    if phonesmart_csv[col].dtype == 'object':\n",
    "        phonesmart_csv[col] = pd.to_numeric(phonesmart_csv[col], errors='coerce')\n",
    "\n",
    "# Inspecting Variables\n",
    "variables_info_phonesmart = phonesmart_csv.dtypes\n",
    "\n",
    "# Exploratory Analysis\n",
    "basic_stats_phonesmart = phonesmart_csv.describe()\n",
    "missing_values_phonesmart = phonesmart_csv.isnull().sum()\n",
    "\n",
    "# Exclude non-numeric columns for correlation\n",
    "numeric_cols_phonesmart = phonesmart_csv.select_dtypes(include=['float64', 'int64'])\n",
    "correlations_phonesmart = numeric_cols_phonesmart.corr()\n",
    "\n",
    "# Output\n",
    "print(\"Variables Info:\", variables_info_phonesmart)\n",
    "print(\"Basic Statistics:\", basic_stats_phonesmart)\n",
    "print(\"Missing Values:\", missing_values_phonesmart)\n",
    "print(\"Correlations:\", correlations_phonesmart)"
   ]
  },
  {
   "cell_type": "markdown",
   "id": "aba1948c-8fa6-410d-9577-ddbdb3be77d5",
   "metadata": {},
   "source": [
    "#### **Data Type**: NonLinear, Multilabel\n",
    "- **Possible Task**: Classification or Regression\n",
    "- **Justification**:\n",
    "- a. Domain Knowledge: The dataset includes variables like Autism Quotient, STAI, device usage, which might be used for behavioral analysis or health-related predictions.\n",
    "- b. Exploratory Analysis: Analyzing patterns in device usage and how they relate to psychological metrics.\n",
    "- c. Inferential Analysis: Could involve examining the relationship between device usage and psychological metrics.\n",
    "- d. Predictive Analysis: Depending on the target variable, could use classification (e.g., predicting a categorical outcome like high vs. low stress) or regression (e.g., predicting a continuous outcome like Autism Quotient)."
   ]
  },
  {
   "cell_type": "markdown",
   "id": "c8cef17c-7560-472e-8fcf-3d3e445cdb55",
   "metadata": {},
   "source": [
    "### wine_data.csv"
   ]
  },
  {
   "cell_type": "code",
   "execution_count": 20,
   "id": "ddeca0b1-04a9-4206-87e3-4ef0b52bb8c7",
   "metadata": {},
   "outputs": [
    {
     "name": "stdout",
     "output_type": "stream",
     "text": [
      "Variables Info: Unnamed: 0                        int64\n",
      "alcohol                         float64\n",
      "malic_acid                      float64\n",
      "ash                             float64\n",
      "alcalinity_of_ash               float64\n",
      "magnesium                       float64\n",
      "total_phenols                   float64\n",
      "flavanoids                      float64\n",
      "nonflavanoid_phenols            float64\n",
      "proanthocyanins                 float64\n",
      "color_intensity                 float64\n",
      "hue                             float64\n",
      "od280/od315_of_diluted_wines    float64\n",
      "proline                         float64\n",
      "dtype: object\n",
      "Basic Statistics:        Unnamed: 0     alcohol  malic_acid         ash  alcalinity_of_ash  \\\n",
      "count  178.000000  178.000000  178.000000  178.000000         178.000000   \n",
      "mean    88.500000   13.000618    2.336348    2.366517          19.494944   \n",
      "std     51.528309    0.811827    1.117146    0.274344           3.339564   \n",
      "min      0.000000   11.030000    0.740000    1.360000          10.600000   \n",
      "25%     44.250000   12.362500    1.602500    2.210000          17.200000   \n",
      "50%     88.500000   13.050000    1.865000    2.360000          19.500000   \n",
      "75%    132.750000   13.677500    3.082500    2.557500          21.500000   \n",
      "max    177.000000   14.830000    5.800000    3.230000          30.000000   \n",
      "\n",
      "        magnesium  total_phenols  flavanoids  nonflavanoid_phenols  \\\n",
      "count  178.000000     178.000000  178.000000            178.000000   \n",
      "mean    99.741573       2.295112    2.029270              0.361854   \n",
      "std     14.282484       0.625851    0.998859              0.124453   \n",
      "min     70.000000       0.980000    0.340000              0.130000   \n",
      "25%     88.000000       1.742500    1.205000              0.270000   \n",
      "50%     98.000000       2.355000    2.135000              0.340000   \n",
      "75%    107.000000       2.800000    2.875000              0.437500   \n",
      "max    162.000000       3.880000    5.080000              0.660000   \n",
      "\n",
      "       proanthocyanins  color_intensity         hue  \\\n",
      "count       178.000000       178.000000  178.000000   \n",
      "mean          1.590899         5.058090    0.957449   \n",
      "std           0.572359         2.318286    0.228572   \n",
      "min           0.410000         1.280000    0.480000   \n",
      "25%           1.250000         3.220000    0.782500   \n",
      "50%           1.555000         4.690000    0.965000   \n",
      "75%           1.950000         6.200000    1.120000   \n",
      "max           3.580000        13.000000    1.710000   \n",
      "\n",
      "       od280/od315_of_diluted_wines      proline  \n",
      "count                    178.000000   178.000000  \n",
      "mean                       2.611685   746.893258  \n",
      "std                        0.709990   314.907474  \n",
      "min                        1.270000   278.000000  \n",
      "25%                        1.937500   500.500000  \n",
      "50%                        2.780000   673.500000  \n",
      "75%                        3.170000   985.000000  \n",
      "max                        4.000000  1680.000000  \n",
      "Missing Values: Unnamed: 0                      0\n",
      "alcohol                         0\n",
      "malic_acid                      0\n",
      "ash                             0\n",
      "alcalinity_of_ash               0\n",
      "magnesium                       0\n",
      "total_phenols                   0\n",
      "flavanoids                      0\n",
      "nonflavanoid_phenols            0\n",
      "proanthocyanins                 0\n",
      "color_intensity                 0\n",
      "hue                             0\n",
      "od280/od315_of_diluted_wines    0\n",
      "proline                         0\n",
      "dtype: int64\n",
      "Correlations:                               Unnamed: 0   alcohol  malic_acid       ash  \\\n",
      "Unnamed: 0                      1.000000 -0.362844    0.487630 -0.016086   \n",
      "alcohol                        -0.362844  1.000000    0.094397  0.211545   \n",
      "malic_acid                      0.487630  0.094397    1.000000  0.164045   \n",
      "ash                            -0.016086  0.211545    0.164045  1.000000   \n",
      "alcalinity_of_ash               0.563955 -0.310235    0.288500  0.443367   \n",
      "magnesium                      -0.232275  0.270798   -0.054575  0.286587   \n",
      "total_phenols                  -0.650084  0.289101   -0.335167  0.128980   \n",
      "flavanoids                     -0.758609  0.236815   -0.411007  0.115077   \n",
      "nonflavanoid_phenols            0.482817 -0.155929    0.292977  0.186230   \n",
      "proanthocyanins                -0.406681  0.136698   -0.220746  0.009652   \n",
      "color_intensity                 0.255444  0.546364    0.248985  0.258887   \n",
      "hue                            -0.662205 -0.071747   -0.561296 -0.074667   \n",
      "od280/od315_of_diluted_wines   -0.697445  0.072343   -0.368710  0.003911   \n",
      "proline                        -0.644330  0.643720   -0.192011  0.223626   \n",
      "\n",
      "                              alcalinity_of_ash  magnesium  total_phenols  \\\n",
      "Unnamed: 0                             0.563955  -0.232275      -0.650084   \n",
      "alcohol                               -0.310235   0.270798       0.289101   \n",
      "malic_acid                             0.288500  -0.054575      -0.335167   \n",
      "ash                                    0.443367   0.286587       0.128980   \n",
      "alcalinity_of_ash                      1.000000  -0.083333      -0.321113   \n",
      "magnesium                             -0.083333   1.000000       0.214401   \n",
      "total_phenols                         -0.321113   0.214401       1.000000   \n",
      "flavanoids                            -0.351370   0.195784       0.864564   \n",
      "nonflavanoid_phenols                   0.361922  -0.256294      -0.449935   \n",
      "proanthocyanins                       -0.197327   0.236441       0.612413   \n",
      "color_intensity                        0.018732   0.199950      -0.055136   \n",
      "hue                                   -0.273955   0.055398       0.433681   \n",
      "od280/od315_of_diluted_wines          -0.276769   0.066004       0.699949   \n",
      "proline                               -0.440597   0.393351       0.498115   \n",
      "\n",
      "                              flavanoids  nonflavanoid_phenols  \\\n",
      "Unnamed: 0                     -0.758609              0.482817   \n",
      "alcohol                         0.236815             -0.155929   \n",
      "malic_acid                     -0.411007              0.292977   \n",
      "ash                             0.115077              0.186230   \n",
      "alcalinity_of_ash              -0.351370              0.361922   \n",
      "magnesium                       0.195784             -0.256294   \n",
      "total_phenols                   0.864564             -0.449935   \n",
      "flavanoids                      1.000000             -0.537900   \n",
      "nonflavanoid_phenols           -0.537900              1.000000   \n",
      "proanthocyanins                 0.652692             -0.365845   \n",
      "color_intensity                -0.172379              0.139057   \n",
      "hue                             0.543479             -0.262640   \n",
      "od280/od315_of_diluted_wines    0.787194             -0.503270   \n",
      "proline                         0.494193             -0.311385   \n",
      "\n",
      "                              proanthocyanins  color_intensity       hue  \\\n",
      "Unnamed: 0                          -0.406681         0.255444 -0.662205   \n",
      "alcohol                              0.136698         0.546364 -0.071747   \n",
      "malic_acid                          -0.220746         0.248985 -0.561296   \n",
      "ash                                  0.009652         0.258887 -0.074667   \n",
      "alcalinity_of_ash                   -0.197327         0.018732 -0.273955   \n",
      "magnesium                            0.236441         0.199950  0.055398   \n",
      "total_phenols                        0.612413        -0.055136  0.433681   \n",
      "flavanoids                           0.652692        -0.172379  0.543479   \n",
      "nonflavanoid_phenols                -0.365845         0.139057 -0.262640   \n",
      "proanthocyanins                      1.000000        -0.025250  0.295544   \n",
      "color_intensity                     -0.025250         1.000000 -0.521813   \n",
      "hue                                  0.295544        -0.521813  1.000000   \n",
      "od280/od315_of_diluted_wines         0.519067        -0.428815  0.565468   \n",
      "proline                              0.330417         0.316100  0.236183   \n",
      "\n",
      "                              od280/od315_of_diluted_wines   proline  \n",
      "Unnamed: 0                                       -0.697445 -0.644330  \n",
      "alcohol                                           0.072343  0.643720  \n",
      "malic_acid                                       -0.368710 -0.192011  \n",
      "ash                                               0.003911  0.223626  \n",
      "alcalinity_of_ash                                -0.276769 -0.440597  \n",
      "magnesium                                         0.066004  0.393351  \n",
      "total_phenols                                     0.699949  0.498115  \n",
      "flavanoids                                        0.787194  0.494193  \n",
      "nonflavanoid_phenols                             -0.503270 -0.311385  \n",
      "proanthocyanins                                   0.519067  0.330417  \n",
      "color_intensity                                  -0.428815  0.316100  \n",
      "hue                                               0.565468  0.236183  \n",
      "od280/od315_of_diluted_wines                      1.000000  0.312761  \n",
      "proline                                           0.312761  1.000000  \n"
     ]
    }
   ],
   "source": [
    "# Load the dataset\n",
    "wine_csv = pd.read_csv('wine_data.csv')\n",
    "\n",
    "# Inspecting Variables\n",
    "variables_info_wine = wine_csv.dtypes\n",
    "\n",
    "# Exploratory Analysis\n",
    "basic_stats_wine = wine_csv.describe()\n",
    "missing_values_wine = wine_csv.isnull().sum()\n",
    "\n",
    "# Exclude non-numeric columns for correlation\n",
    "numeric_cols_wine = wine_csv.select_dtypes(include=['float64', 'int64'])\n",
    "correlations_wine = numeric_cols_wine.corr()\n",
    "# Output\n",
    "print(\"Variables Info:\", variables_info_wine)\n",
    "print(\"Basic Statistics:\", basic_stats_wine)\n",
    "print(\"Missing Values:\", missing_values_wine)\n",
    "print(\"Correlations:\", correlations_wine)"
   ]
  },
  {
   "cell_type": "markdown",
   "id": "be926c5b-94f8-4436-99ae-7e1448ebbeee",
   "metadata": {},
   "source": [
    "#### **Data Type**: NonLinear, Multilabel\n",
    "- **Possible Task**: Regression\n",
    "- **Justification**:\n",
    "- a. Domain Knowledge: Contains chemical properties of wine like alcohol, malic acid, which are often used to classify wine quality or type.\n",
    "- b. Exploratory Analysis: Exploring relationships between chemical properties and wine type.\n",
    "- c. Inferential Analysis: Analyzing how different chemical properties can infer the quality or type of wine.\n",
    "- d. Predictive Analysis: Classification algorithms like decision trees or random forests to classify wine types."
   ]
  },
  {
   "cell_type": "markdown",
   "id": "739ea2fa-12cc-4b25-bc1c-e85b9be75d64",
   "metadata": {},
   "source": [
    "## 2 Loss functions"
   ]
  },
  {
   "cell_type": "code",
   "execution_count": 21,
   "id": "f8fda6e2-a76a-475a-aa60-ab74147b68d0",
   "metadata": {},
   "outputs": [],
   "source": [
    "import pandas as pd\n",
    "import numpy as np\n",
    "from sklearn.metrics import mean_absolute_error, mean_squared_error, log_loss, hinge_loss\n",
    "import tensorflow as tf"
   ]
  },
  {
   "cell_type": "markdown",
   "id": "67ac252a-fda8-4059-a26c-7309bf989c0c",
   "metadata": {},
   "source": [
    "### data.csv"
   ]
  },
  {
   "cell_type": "code",
   "execution_count": 22,
   "id": "19f2f30f-5ea5-4110-8ea7-233ae07ec0bd",
   "metadata": {},
   "outputs": [
    {
     "name": "stdout",
     "output_type": "stream",
     "text": [
      "Log Loss: 12.959940423902177\n",
      "Categorical Cross-Entropy Loss: 12.959940423902175\n"
     ]
    },
    {
     "name": "stderr",
     "output_type": "stream",
     "text": [
      "D:\\anaconda\\envs\\DSAI1\\lib\\site-packages\\sklearn\\metrics\\_classification.py:2922: UserWarning: The y_pred values do not sum to one. Starting from 1.5 thiswill result in an error.\n",
      "  warnings.warn(\n"
     ]
    }
   ],
   "source": [
    "# Define target column and number of classes\n",
    "target_column = 'label'\n",
    "num_classes = data_csv[target_column].nunique()\n",
    "\n",
    "# Simulate true values and predictions\n",
    "num_samples = len(data_csv)\n",
    "true_values = np.random.randint(0, 2, (num_samples, num_classes))\n",
    "predictions = np.random.rand(num_samples, num_classes)\n",
    "\n",
    "# Calculate Log Loss\n",
    "log_loss_value = log_loss(true_values, predictions)\n",
    "print(\"Log Loss:\", log_loss_value)\n",
    "\n",
    "# Calculate Categorical Cross-Entropy Loss\n",
    "cce = tf.keras.losses.CategoricalCrossentropy()\n",
    "categorical_loss = cce(true_values, predictions).numpy()\n",
    "print(\"Categorical Cross-Entropy Loss:\", categorical_loss)"
   ]
  },
  {
   "cell_type": "markdown",
   "id": "6fdd94dc-db37-4018-ab7c-6712b0f423fb",
   "metadata": {},
   "source": [
    "#### Housing.cvs"
   ]
  },
  {
   "cell_type": "code",
   "execution_count": 23,
   "id": "a1f4b7b4-320b-4bbd-8b2a-022e3b8754b3",
   "metadata": {},
   "outputs": [
    {
     "name": "stdout",
     "output_type": "stream",
     "text": [
      "Log Loss: 2.0971694782761126\n",
      "Categorical Cross-Entropy Loss: 2.0971694782761126\n"
     ]
    },
    {
     "name": "stderr",
     "output_type": "stream",
     "text": [
      "D:\\anaconda\\envs\\DSAI1\\lib\\site-packages\\sklearn\\metrics\\_classification.py:2922: UserWarning: The y_pred values do not sum to one. Starting from 1.5 thiswill result in an error.\n",
      "  warnings.warn(\n"
     ]
    }
   ],
   "source": [
    "# Define the target column and number of classes\n",
    "target_column = 'furnishingstatus'\n",
    "num_classes = housing_csv[target_column].nunique()\n",
    "\n",
    "# Simulate true values and predictions for a classification task\n",
    "num_samples = len(housing_csv)\n",
    "true_values = np.random.randint(0, 2, (num_samples, num_classes))\n",
    "predictions = np.random.rand(num_samples, num_classes)\n",
    "\n",
    "# Calculate Log Loss\n",
    "log_loss_value = log_loss(true_values, predictions)\n",
    "print(\"Log Loss:\", log_loss_value)\n",
    "\n",
    "# Calculate Categorical Cross-Entropy Loss\n",
    "cce = tf.keras.losses.CategoricalCrossentropy()\n",
    "categorical_loss = cce(true_values, predictions).numpy()\n",
    "print(\"Categorical Cross-Entropy Loss:\", categorical_loss)"
   ]
  },
  {
   "cell_type": "markdown",
   "id": "221b9298-85f9-44bd-9895-5828edf51c8f",
   "metadata": {},
   "source": [
    "#### MASTER_PhonesmartdataAll_CCI_AdvStats.csv"
   ]
  },
  {
   "cell_type": "code",
   "execution_count": 24,
   "id": "6d171e9a-827c-460d-b04c-f04653d32c23",
   "metadata": {},
   "outputs": [
    {
     "name": "stdout",
     "output_type": "stream",
     "text": [
      "L1 Loss (Mean Absolute Error): 840.9977853177102\n",
      "L2 Loss (Mean Squared Error): 736818.1823471952\n"
     ]
    }
   ],
   "source": [
    "# Define target column\n",
    "target_column_name = 'VS_RT_correct_Single'\n",
    "true_values = phonesmart_csv[target_column_name].values\n",
    "\n",
    "# Simulate predictions\n",
    "num_samples = len(phonesmart_csv)\n",
    "predictions = np.random.rand(num_samples)\n",
    "\n",
    "# Calculate L1 Loss\n",
    "l1_loss = mean_absolute_error(true_values, predictions)\n",
    "print(\"L1 Loss (Mean Absolute Error):\", l1_loss)\n",
    "\n",
    "# Calculate L2 Loss\n",
    "l2_loss = mean_squared_error(true_values, predictions)\n",
    "print(\"L2 Loss (Mean Squared Error):\", l2_loss)"
   ]
  },
  {
   "cell_type": "markdown",
   "id": "b4c4ccfd-1060-487d-9e6a-7edbfc6f64ff",
   "metadata": {},
   "source": [
    "#### wine_data.csv"
   ]
  },
  {
   "cell_type": "code",
   "execution_count": 25,
   "id": "c24f030d-958f-4084-8594-6215148a5b62",
   "metadata": {},
   "outputs": [
    {
     "name": "stdout",
     "output_type": "stream",
     "text": [
      "L1 Loss (Mean Absolute Error): 746.3958393060203\n",
      "L2 Loss (Mean Squared Error): 655719.464270914\n"
     ]
    }
   ],
   "source": [
    "# Define target column\n",
    "target_column_name = 'proline'\n",
    "true_values = wine_csv[target_column_name].values\n",
    "\n",
    "# Simulate predictions\n",
    "num_samples = len(wine_csv)\n",
    "predictions = np.random.rand(num_samples)\n",
    "\n",
    "# Calculate L1 Loss\n",
    "l1_loss = mean_absolute_error(true_values, predictions)\n",
    "print(\"L1 Loss (Mean Absolute Error):\", l1_loss)\n",
    "\n",
    "# Calculate L2 Loss\n",
    "l2_loss = mean_squared_error(true_values, predictions)\n",
    "print(\"L2 Loss (Mean Squared Error):\", l2_loss)"
   ]
  },
  {
   "cell_type": "markdown",
   "id": "4f98f15e-2317-496b-a4b3-a26cb6fc16b2",
   "metadata": {},
   "source": [
    "## 3 Visual plots"
   ]
  },
  {
   "cell_type": "code",
   "execution_count": 30,
   "id": "94d3280a-2d71-4b77-a245-00872e35c101",
   "metadata": {},
   "outputs": [
    {
     "name": "stderr",
     "output_type": "stream",
     "text": [
      "D:\\anaconda\\envs\\DSAI1\\lib\\site-packages\\sklearn\\metrics\\_classification.py:2922: UserWarning: The y_pred values do not sum to one. Starting from 1.5 thiswill result in an error.\n",
      "  warnings.warn(\n"
     ]
    },
    {
     "data": {
      "image/png": "[encoded data removed]",
      "text/plain": [
       "<Figure size 640x480 with 1 Axes>"
      ]
     },
     "metadata": {},
     "output_type": "display_data"
    },
    {
     "name": "stderr",
     "output_type": "stream",
     "text": [
      "D:\\anaconda\\envs\\DSAI1\\lib\\site-packages\\sklearn\\metrics\\_classification.py:2922: UserWarning: The y_pred values do not sum to one. Starting from 1.5 thiswill result in an error.\n",
      "  warnings.warn(\n"
     ]
    },
    {
     "data": {
      "image/png": "[encoded data removed]",
      "text/plain": [
       "<Figure size 640x480 with 1 Axes>"
      ]
     },
     "metadata": {},
     "output_type": "display_data"
    },
    {
     "data": {
      "image/png": "[encoded data removed]",
      "text/plain": [
       "<Figure size 640x480 with 1 Axes>"
      ]
     },
     "metadata": {},
     "output_type": "display_data"
    },
    {
     "data": {
      "image/png": "[encoded data removed]",
      "text/plain": [
       "<Figure size 640x480 with 1 Axes>"
      ]
     },
     "metadata": {},
     "output_type": "display_data"
    }
   ],
   "source": [
    "import numpy as np\n",
    "from sklearn.metrics import log_loss, mean_absolute_error, mean_squared_error\n",
    "import matplotlib.pyplot as plt\n",
    "\n",
    "# Function to calculate and plot losses for classification tasks (Log Loss and Categorical Cross-Entropy)\n",
    "# Function to calculate and plot losses for classification tasks (Log Loss and Categorical Cross-Entropy)\n",
    "def plot_classification_losses(num_samples, num_classes, title):\n",
    "    true_values = np.random.randint(0, 2, (num_samples, num_classes))\n",
    "    predictions = np.random.rand(num_samples, num_classes)\n",
    "    log_loss_value = log_loss(true_values, predictions)\n",
    "    categorical_loss = -np.sum(true_values * np.log(predictions + 1e-15)) / num_samples\n",
    "    plt.bar(['Log Loss', 'Categorical Cross-Entropy'], [log_loss_value, categorical_loss])\n",
    "    plt.title(title)\n",
    "    plt.ylabel('Loss Value')\n",
    "    plt.show()\n",
    "    return log_loss_value, categorical_loss\n",
    "\n",
    "# Function to calculate and plot losses for regression tasks (L1 and L2 Loss)\n",
    "def plot_regression_losses(num_samples, true_values, title):\n",
    "    predictions = np.random.rand(num_samples)\n",
    "    l1_loss = mean_absolute_error(true_values, predictions)\n",
    "    l2_loss = mean_squared_error(true_values, predictions)\n",
    "    plt.bar(['L1 Loss (MAE)', 'L2 Loss (MSE)'], [l1_loss, l2_loss])\n",
    "    plt.title(title)\n",
    "    plt.ylabel('Loss Value')\n",
    "    plt.show()\n",
    "    return l1_loss, l2_loss\n",
    "\n",
    "# Calculate and plot losses for each dataset with titles\n",
    "log_loss_data, cce_data = plot_classification_losses(len(data_csv), data_csv['label'].nunique(), \"Loss Comparison for data.csv\")\n",
    "log_loss_housing, cce_housing = plot_classification_losses(len(housing_csv), housing_csv['furnishingstatus'].nunique(), \"Loss Comparison for Housing.csv\")\n",
    "l1_loss_phonesmart, l2_loss_phonesmart = plot_regression_losses(len(phonesmart_csv), phonesmart_csv['VS_RT_correct_Single'], \"Loss Comparison for MASTER_PhonesmartdataAll_CCI_AdvStats.csv\")\n",
    "l1_loss_wine, l2_loss_wine = plot_regression_losses(len(wine_csv), wine_csv['proline'], \"Loss Comparison for wine_data.csv\")"
   ]
  },
  {
   "cell_type": "code",
   "execution_count": 32,
   "id": "c78b5d14-7035-401d-8d41-a64baa5b9460",
   "metadata": {},
   "outputs": [
    {
     "data": {
      "image/png": "[encoded data removed]",
      "text/plain": [
       "<Figure size 640x480 with 1 Axes>"
      ]
     },
     "metadata": {},
     "output_type": "display_data"
    },
    {
     "data": {
      "image/png": "[encoded data removed]",
      "text/plain": [
       "<Figure size 640x480 with 1 Axes>"
      ]
     },
     "metadata": {},
     "output_type": "display_data"
    }
   ],
   "source": [
    "import matplotlib.pyplot as plt\n",
    "import numpy as np\n",
    "\n",
    "# Function to create scatter plots for regression tasks\n",
    "def plot_regression_scatter(num_samples, true_values, dataset_name):\n",
    "    predictions = np.random.rand(num_samples)\n",
    "    plt.scatter(true_values, predictions, alpha=0.5)\n",
    "    plt.title(f\"Scatter Plot for {dataset_name}\")\n",
    "    plt.xlabel('True Values')\n",
    "    plt.ylabel('Predicted Values')\n",
    "    plt.plot([true_values.min(), true_values.max()], [true_values.min(), true_values.max()], 'k--', lw=2) # y = x line\n",
    "    plt.show()\n",
    "\n",
    "# Create scatter plots for phonesmart_csv and wine_csv datasets\n",
    "plot_regression_scatter(len(phonesmart_csv), phonesmart_csv['VS_RT_correct_Single'], ' MASTER_PhonesmartdataAll_CCI_AdvStats.csv')\n",
    "plot_regression_scatter(len(wine_csv), wine_csv['proline'], 'wine_data.csv')\n"
   ]
  },
  {
   "cell_type": "markdown",
   "id": "07a7bc07-0afc-4e41-b541-7ae1d5d1a0b0",
   "metadata": {},
   "source": [
    "## 4 Assess"
   ]
  },
  {
   "cell_type": "code",
   "execution_count": 34,
   "id": "15524972-dfb9-4895-866c-789415606e79",
   "metadata": {},
   "outputs": [],
   "source": [
    "from sklearn.metrics import accuracy_score, precision_score, recall_score, f1_score, confusion_matrix, roc_auc_score\n",
    "from sklearn.metrics import mean_absolute_error, mean_squared_error, r2_score\n",
    "import numpy as np"
   ]
  },
  {
   "cell_type": "markdown",
   "id": "ff457f6a-d52d-42f3-9bde-cf9ffc72c5c1",
   "metadata": {},
   "source": [
    "#### Data.csv"
   ]
  },
  {
   "cell_type": "code",
   "execution_count": 39,
   "id": "a6ca2906-c419-4550-82d0-682834c7683f",
   "metadata": {},
   "outputs": [
    {
     "name": "stdout",
     "output_type": "stream",
     "text": [
      "Music Features Dataset Metrics:\n",
      "Accuracy: 0.5\n",
      "Precision: 0.5060024009603841\n",
      "Recall: 0.5\n",
      "F1 Score: 0.501201923076923\n",
      "Confusion Matrix:\n",
      " [[23 22]\n",
      " [28 27]]\n",
      "ROC AUC Score: 0.501010101010101\n"
     ]
    }
   ],
   "source": [
    "true_labels_music = np.random.randint(0, 2, 100)  \n",
    "predicted_labels_music = np.random.randint(0, 2, 100)\n",
    "\n",
    "# Calculate metrics for Data.csv\n",
    "accuracy_music = accuracy_score(true_labels_music, predicted_labels_music)\n",
    "precision_music = precision_score(true_labels_music, predicted_labels_music, average='weighted')\n",
    "recall_music = recall_score(true_labels_music, predicted_labels_music, average='weighted')\n",
    "f1_music = f1_score(true_labels_music, predicted_labels_music, average='weighted')\n",
    "confusion_matrix_music = confusion_matrix(true_labels_music, predicted_labels_music)\n",
    "roc_auc_music = roc_auc_score(true_labels_music, predicted_labels_music)\n",
    "\n",
    "# Output example metrics for Data.csv\n",
    "print(\"Music Features Dataset Metrics:\")\n",
    "print(\"Accuracy:\", accuracy_music)\n",
    "print(\"Precision:\", precision_music)\n",
    "print(\"Recall:\", recall_music)\n",
    "print(\"F1 Score:\", f1_music)\n",
    "print(\"Confusion Matrix:\\n\", confusion_matrix_music)\n",
    "print(\"ROC AUC Score:\", roc_auc_music)\n"
   ]
  },
  {
   "cell_type": "markdown",
   "id": "ba227f35-3000-49c3-948d-bbdf45a08021",
   "metadata": {},
   "source": [
    "#### Housing.csv"
   ]
  },
  {
   "cell_type": "code",
   "execution_count": 40,
   "id": "d6126364-a4f8-4890-8769-fc3204c67bfb",
   "metadata": {},
   "outputs": [
    {
     "name": "stdout",
     "output_type": "stream",
     "text": [
      "Housing Dataset Metrics:\n",
      "Accuracy: 0.45\n",
      "Precision: 0.4539015606242497\n",
      "Recall: 0.45\n",
      "F1 Score: 0.450825743168852\n",
      "Confusion Matrix:\n",
      " [[21 25]\n",
      " [30 24]]\n",
      "ROC AUC Score: 0.4504830917874396\n"
     ]
    }
   ],
   "source": [
    "true_labels_housing = np.random.randint(0, 2, 100) \n",
    "predicted_labels_housing = np.random.randint(0, 2, 100) \n",
    "\n",
    "# Calculate metrics for Housing.csv\n",
    "accuracy_housing = accuracy_score(true_labels_housing, predicted_labels_housing)\n",
    "precision_housing = precision_score(true_labels_housing, predicted_labels_housing, average='weighted')\n",
    "recall_housing = recall_score(true_labels_housing, predicted_labels_housing, average='weighted')\n",
    "f1_housing = f1_score(true_labels_housing, predicted_labels_housing, average='weighted')\n",
    "confusion_matrix_housing = confusion_matrix(true_labels_housing, predicted_labels_housing)\n",
    "roc_auc_housing = roc_auc_score(true_labels_housing, predicted_labels_housing)\n",
    "\n",
    "# Output example metrics for Housing.csv\n",
    "print(\"Housing Dataset Metrics:\")\n",
    "print(\"Accuracy:\", accuracy_housing)\n",
    "print(\"Precision:\", precision_housing)\n",
    "print(\"Recall:\", recall_housing)\n",
    "print(\"F1 Score:\", f1_housing)\n",
    "print(\"Confusion Matrix:\\n\", confusion_matrix_housing)\n",
    "print(\"ROC AUC Score:\", roc_auc_housing)\n"
   ]
  },
  {
   "cell_type": "markdown",
   "id": "0655f074-3928-4ee8-b657-c2033321c681",
   "metadata": {},
   "source": [
    "#### MASTER_PhonesmartdataAll_CCI_AdvStats.csv"
   ]
  },
  {
   "cell_type": "code",
   "execution_count": 37,
   "id": "a39264d4-22c0-4121-a163-344f1ad86be8",
   "metadata": {},
   "outputs": [
    {
     "name": "stdout",
     "output_type": "stream",
     "text": [
      "Smartphone Data Dataset Metrics:\n",
      "MAE: 0.30170837359765024\n",
      "MSE: 0.14397222200272838\n",
      "RMSE: 0.37943671672984997\n",
      "R-squared: -0.7371973431884076\n"
     ]
    }
   ],
   "source": [
    "true_values_phonesmart = np.random.rand(100) \n",
    "predicted_values_phonesmart = np.random.rand(100) \n",
    "\n",
    "# Calculate metrics for MASTER_PhonesmartdataAll_CCI_AdvStats.csv\n",
    "mae_phonesmart = mean_absolute_error(true_values_phonesmart, predicted_values_phonesmart)\n",
    "mse_phonesmart = mean_squared_error(true_values_phonesmart, predicted_values_phonesmart)\n",
    "rmse_phonesmart = np.sqrt(mse_phonesmart)\n",
    "r2_phonesmart = r2_score(true_values_phonesmart, predicted_values_phonesmart)\n",
    "\n",
    "# Output example metrics for MASTER_PhonesmartdataAll_CCI_AdvStats.csv\n",
    "print(\"Smartphone Data Dataset Metrics:\")\n",
    "print(\"MAE:\", mae_phonesmart)\n",
    "print(\"MSE:\", mse_phonesmart)\n",
    "print(\"RMSE:\", rmse_phonesmart)\n",
    "print(\"R-squared:\", r2_phonesmart)\n"
   ]
  },
  {
   "cell_type": "markdown",
   "id": "a02888e6-be61-448b-b855-3a67c3289deb",
   "metadata": {},
   "source": [
    "#### wine_data.csv"
   ]
  },
  {
   "cell_type": "code",
   "execution_count": 41,
   "id": "6d391227-a5fc-4424-9d33-5d9a126b334d",
   "metadata": {},
   "outputs": [
    {
     "name": "stdout",
     "output_type": "stream",
     "text": [
      "Wine Data Dataset Metrics:\n",
      "MAE: 0.3185491261889788\n",
      "MSE: 0.15123184727991104\n",
      "RMSE: 0.3888853909314556\n",
      "R-squared: -0.9763756972052684\n"
     ]
    }
   ],
   "source": [
    "true_values_wine = np.random.rand(100)  \n",
    "predicted_values_wine = np.random.rand(100) \n",
    "\n",
    "# Calculate metrics for wine_data.csv\n",
    "mae_wine = mean_absolute_error(true_values_wine, predicted_values_wine)\n",
    "mse_wine = mean_squared_error(true_values_wine, predicted_values_wine)\n",
    "rmse_wine = np.sqrt(mse_wine)\n",
    "r2_wine = r2_score(true_values_wine, predicted_values_wine)\n",
    "\n",
    "# Output example metrics for wine_data.csv\n",
    "print(\"Wine Data Dataset Metrics:\")\n",
    "print(\"MAE:\", mae_wine)\n",
    "print(\"MSE:\", mse_wine)\n",
    "print(\"RMSE:\", rmse_wine)\n",
    "print(\"R-squared:\", r2_wine)\n"
   ]
  },
  {
   "cell_type": "markdown",
   "id": "ad5726e4-b2ec-48d0-ba71-f2fd717fd520",
   "metadata": {},
   "source": [
    "## 5 Model fitting and accuracy assessment"
   ]
  },
  {
   "cell_type": "markdown",
   "id": "94ca5eac-b34a-4f36-b4ae-547c7c60b93a",
   "metadata": {},
   "source": [
    "#### Data.csv"
   ]
  },
  {
   "cell_type": "code",
   "execution_count": 44,
   "id": "b37e48d9-3cd1-4cfe-9354-9e217e52d30d",
   "metadata": {},
   "outputs": [],
   "source": [
    "import numpy as np\n",
    "import pandas as pd\n",
    "from sklearn.model_selection import train_test_split\n",
    "from sklearn.svm import SVC\n",
    "from sklearn.metrics import accuracy_score\n",
    "from sklearn.preprocessing import StandardScaler, LabelEncoder"
   ]
  },
  {
   "cell_type": "markdown",
   "id": "c77cf05e-7376-41b7-b41d-b69726074471",
   "metadata": {},
   "source": [
    "##### Preprocess the Data"
   ]
  },
  {
   "cell_type": "code",
   "execution_count": 45,
   "id": "f08f9152-85ca-4a44-b4b2-9a73afec08d8",
   "metadata": {},
   "outputs": [],
   "source": [
    "# Removing non-numeric columns\n",
    "X_music = data_csv.select_dtypes(include=[np.number])\n",
    "\n",
    "# Encoding the categorical target variable\n",
    "y_music = data_csv['label']  # Assuming 'label' is the target variable\n",
    "label_encoder = LabelEncoder()\n",
    "y_music_encoded = label_encoder.fit_transform(y_music)"
   ]
  },
  {
   "cell_type": "markdown",
   "id": "57cc2ea6-3590-443a-ae53-29bf654b9fe5",
   "metadata": {},
   "source": [
    "##### Standardize the Features"
   ]
  },
  {
   "cell_type": "code",
   "execution_count": 48,
   "id": "fe7200d8-c208-4a8d-a196-7a7aa2212daf",
   "metadata": {},
   "outputs": [],
   "source": [
    "scaler = StandardScaler()\n",
    "X_music_scaled = scaler.fit_transform(X_music)"
   ]
  },
  {
   "cell_type": "markdown",
   "id": "f34046ab-14dc-49d2-900c-a788cbf2fd0f",
   "metadata": {},
   "source": [
    "##### Split the Dataset into Training and Testing Sets"
   ]
  },
  {
   "cell_type": "code",
   "execution_count": 47,
   "id": "7025e2f3-8b25-416e-98f1-fcfafe76e03a",
   "metadata": {},
   "outputs": [],
   "source": [
    "# Splitting the dataset into training and testing sets\n",
    "X_music_train, X_music_test, y_music_train, y_music_test = train_test_split(\n",
    "    X_music_scaled, y_music_encoded, test_size=0.3, random_state=42)"
   ]
  },
  {
   "cell_type": "markdown",
   "id": "11a0abaf-5fcf-410a-9a8e-2a804a56c48f",
   "metadata": {},
   "source": [
    "##### Define and Fit the SVM Model"
   ]
  },
  {
   "cell_type": "code",
   "execution_count": 49,
   "id": "c557b805-bdd6-4f53-a17c-6615b6df2e99",
   "metadata": {},
   "outputs": [
    {
     "data": {
      "text/html": [
       "<style>#sk-container-id-1 {color: black;}#sk-container-id-1 pre{padding: 0;}#sk-container-id-1 div.sk-toggleable {background-color: white;}#sk-container-id-1 label.sk-toggleable__label {cursor: pointer;display: block;width: 100%;margin-bottom: 0;padding: 0.3em;box-sizing: border-box;text-align: center;}#sk-container-id-1 label.sk-toggleable__label-arrow:before {content: \"▸\";float: left;margin-right: 0.25em;color: #696969;}#sk-container-id-1 label.sk-toggleable__label-arrow:hover:before {color: black;}#sk-container-id-1 div.sk-estimator:hover label.sk-toggleable__label-arrow:before {color: black;}#sk-container-id-1 div.sk-toggleable__content {max-height: 0;max-width: 0;overflow: hidden;text-align: left;background-color: #f0f8ff;}#sk-container-id-1 div.sk-toggleable__content pre {margin: 0.2em;color: black;border-radius: 0.25em;background-color: #f0f8ff;}#sk-container-id-1 input.sk-toggleable__control:checked~div.sk-toggleable__content {max-height: 200px;max-width: 100%;overflow: auto;}#sk-container-id-1 input.sk-toggleable__control:checked~label.sk-toggleable__label-arrow:before {content: \"▾\";}#sk-container-id-1 div.sk-estimator input.sk-toggleable__control:checked~label.sk-toggleable__label {background-color: #d4ebff;}#sk-container-id-1 div.sk-label input.sk-toggleable__control:checked~label.sk-toggleable__label {background-color: #d4ebff;}#sk-container-id-1 input.sk-hidden--visually {border: 0;clip: rect(1px 1px 1px 1px);clip: rect(1px, 1px, 1px, 1px);height: 1px;margin: -1px;overflow: hidden;padding: 0;position: absolute;width: 1px;}#sk-container-id-1 div.sk-estimator {font-family: monospace;background-color: #f0f8ff;border: 1px dotted black;border-radius: 0.25em;box-sizing: border-box;margin-bottom: 0.5em;}#sk-container-id-1 div.sk-estimator:hover {background-color: #d4ebff;}#sk-container-id-1 div.sk-parallel-item::after {content: \"\";width: 100%;border-bottom: 1px solid gray;flex-grow: 1;}#sk-container-id-1 div.sk-label:hover label.sk-toggleable__label {background-color: #d4ebff;}#sk-container-id-1 div.sk-serial::before {content: \"\";position: absolute;border-left: 1px solid gray;box-sizing: border-box;top: 0;bottom: 0;left: 50%;z-index: 0;}#sk-container-id-1 div.sk-serial {display: flex;flex-direction: column;align-items: center;background-color: white;padding-right: 0.2em;padding-left: 0.2em;position: relative;}#sk-container-id-1 div.sk-item {position: relative;z-index: 1;}#sk-container-id-1 div.sk-parallel {display: flex;align-items: stretch;justify-content: center;background-color: white;position: relative;}#sk-container-id-1 div.sk-item::before, #sk-container-id-1 div.sk-parallel-item::before {content: \"\";position: absolute;border-left: 1px solid gray;box-sizing: border-box;top: 0;bottom: 0;left: 50%;z-index: -1;}#sk-container-id-1 div.sk-parallel-item {display: flex;flex-direction: column;z-index: 1;position: relative;background-color: white;}#sk-container-id-1 div.sk-parallel-item:first-child::after {align-self: flex-end;width: 50%;}#sk-container-id-1 div.sk-parallel-item:last-child::after {align-self: flex-start;width: 50%;}#sk-container-id-1 div.sk-parallel-item:only-child::after {width: 0;}#sk-container-id-1 div.sk-dashed-wrapped {border: 1px dashed gray;margin: 0 0.4em 0.5em 0.4em;box-sizing: border-box;padding-bottom: 0.4em;background-color: white;}#sk-container-id-1 div.sk-label label {font-family: monospace;font-weight: bold;display: inline-block;line-height: 1.2em;}#sk-container-id-1 div.sk-label-container {text-align: center;}#sk-container-id-1 div.sk-container {/* jupyter's `normalize.less` sets `[hidden] { display: none; }` but bootstrap.min.css set `[hidden] { display: none !important; }` so we also need the `!important` here to be able to override the default hidden behavior on the sphinx rendered scikit-learn.org. See: https://github.com/scikit-learn/scikit-learn/issues/21755 */display: inline-block !important;position: relative;}#sk-container-id-1 div.sk-text-repr-fallback {display: none;}</style><div id=\"sk-container-id-1\" class=\"sk-top-container\"><div class=\"sk-text-repr-fallback\"><pre>SVC()</pre><b>In a Jupyter environment, please rerun this cell to show the HTML representation or trust the notebook. <br />On GitHub, the HTML representation is unable to render, please try loading this page with nbviewer.org.</b></div><div class=\"sk-container\" hidden><div class=\"sk-item\"><div class=\"sk-estimator sk-toggleable\"><input class=\"sk-toggleable__control sk-hidden--visually\" id=\"sk-estimator-id-1\" type=\"checkbox\" checked><label for=\"sk-estimator-id-1\" class=\"sk-toggleable__label sk-toggleable__label-arrow\">SVC</label><div class=\"sk-toggleable__content\"><pre>SVC()</pre></div></div></div></div></div>"
      ],
      "text/plain": [
       "SVC()"
      ]
     },
     "execution_count": 49,
     "metadata": {},
     "output_type": "execute_result"
    }
   ],
   "source": [
    "# Using SVM with RBF kernel\n",
    "svm_rbf_music = SVC(kernel='rbf')\n",
    "\n",
    "# Fitting the model to the training data\n",
    "svm_rbf_music.fit(X_music_train, y_music_train)"
   ]
  },
  {
   "cell_type": "markdown",
   "id": "0e508567-a017-4b9a-841a-2e7e060e60d2",
   "metadata": {},
   "source": [
    "##### Make Predictions and Assess Accuracy"
   ]
  },
  {
   "cell_type": "code",
   "execution_count": 50,
   "id": "73f3cb06-84e6-4b2d-a3ba-bca5fa3d7bef",
   "metadata": {},
   "outputs": [
    {
     "name": "stdout",
     "output_type": "stream",
     "text": [
      "Accuracy of the SVM model with RBF kernel: 0.61\n"
     ]
    }
   ],
   "source": [
    "# Predicting the labels on the test set\n",
    "y_music_pred = svm_rbf_music.predict(X_music_test)\n",
    "\n",
    "# Calculating the accuracy of the model\n",
    "accuracy_music = accuracy_score(y_music_test, y_music_pred)\n",
    "print(\"Accuracy of the SVM model with RBF kernel:\", accuracy_music)"
   ]
  }
 ],
 "metadata": {
  "kernelspec": {
   "display_name": "Python 3 (ipykernel)",
   "language": "python",
   "name": "python3"
  },
  "language_info": {
   "codemirror_mode": {
    "name": "ipython",
    "version": 3
   },
   "file_extension": ".py",
   "mimetype": "text/x-python",
   "name": "python",
   "nbconvert_exporter": "python",
   "pygments_lexer": "ipython3",
   "version": "3.9.18"
  }
 },
 "nbformat": 4,
 "nbformat_minor": 5
}
