{
 "cells": [
  {
   "cell_type": "markdown",
   "id": "b6acb6d3-653a-44c5-98f4-92f30c93089b",
   "metadata": {},
   "source": [
    "2. Once you are confident of the above step apply the following loss functions\r\n",
    "appropriately only on the (all possible) appropriate datasets\r\n",
    "a. L1 loss\r\n",
    "b. L2 loss\r\n",
    "c. Log loss\r\n",
    "d. Categorical cross entropy loss\r\n",
    "e. Hing\n",
    "3. For each dataset provide appropriate visual plots to show a comparison of better loss ffunction in case there was possibility to apply more than one loss function.\r\n",
    "4. Do assess with appropriate metrics based on Classification/Regression applied on t e\r\n",
    "datasets. (Hint: Not limited to accuracy, R2\r\n",
    ", Precis on, Confusion matric)c….)e loss"
   ]
  },
  {
   "cell_type": "markdown",
   "id": "e9abce07",
   "metadata": {},
   "source": [
    "# Dataset1: data"
   ]
  },
  {
   "cell_type": "code",
   "execution_count": 1,
   "id": "5803d39d",
   "metadata": {},
   "outputs": [],
   "source": [
    "import pandas as pd\n",
    "import seaborn as sns\n",
    "import matplotlib.pyplot as plt\n",
    "import numpy as np"
   ]
  },
  {
   "cell_type": "code",
   "execution_count": 2,
   "id": "f8891e5b",
   "metadata": {},
   "outputs": [
    {
     "data": {
      "text/html": [
       "<div>\n",
       "<style scoped>\n",
       "    .dataframe tbody tr th:only-of-type {\n",
       "        vertical-align: middle;\n",
       "    }\n",
       "\n",
       "    .dataframe tbody tr th {\n",
       "        vertical-align: top;\n",
       "    }\n",
       "\n",
       "    .dataframe thead th {\n",
       "        text-align: right;\n",
       "    }\n",
       "</style>\n",
       "<table border=\"1\" class=\"dataframe\">\n",
       "  <thead>\n",
       "    <tr style=\"text-align: right;\">\n",
       "      <th></th>\n",
       "      <th>filename</th>\n",
       "      <th>tempo</th>\n",
       "      <th>beats</th>\n",
       "      <th>chroma_stft</th>\n",
       "      <th>rmse</th>\n",
       "      <th>spectral_centroid</th>\n",
       "      <th>spectral_bandwidth</th>\n",
       "      <th>rolloff</th>\n",
       "      <th>zero_crossing_rate</th>\n",
       "      <th>mfcc1</th>\n",
       "      <th>...</th>\n",
       "      <th>mfcc12</th>\n",
       "      <th>mfcc13</th>\n",
       "      <th>mfcc14</th>\n",
       "      <th>mfcc15</th>\n",
       "      <th>mfcc16</th>\n",
       "      <th>mfcc17</th>\n",
       "      <th>mfcc18</th>\n",
       "      <th>mfcc19</th>\n",
       "      <th>mfcc20</th>\n",
       "      <th>label</th>\n",
       "    </tr>\n",
       "  </thead>\n",
       "  <tbody>\n",
       "    <tr>\n",
       "      <th>0</th>\n",
       "      <td>blues.00081.au</td>\n",
       "      <td>103.359375</td>\n",
       "      <td>50</td>\n",
       "      <td>0.380260</td>\n",
       "      <td>0.248262</td>\n",
       "      <td>2116.942959</td>\n",
       "      <td>1956.611056</td>\n",
       "      <td>4196.107960</td>\n",
       "      <td>0.127272</td>\n",
       "      <td>-26.929785</td>\n",
       "      <td>...</td>\n",
       "      <td>14.336612</td>\n",
       "      <td>-13.821769</td>\n",
       "      <td>7.562789</td>\n",
       "      <td>-6.181372</td>\n",
       "      <td>0.330165</td>\n",
       "      <td>-6.829571</td>\n",
       "      <td>0.965922</td>\n",
       "      <td>-7.570825</td>\n",
       "      <td>2.918987</td>\n",
       "      <td>blues</td>\n",
       "    </tr>\n",
       "    <tr>\n",
       "      <th>1</th>\n",
       "      <td>blues.00022.au</td>\n",
       "      <td>95.703125</td>\n",
       "      <td>44</td>\n",
       "      <td>0.306451</td>\n",
       "      <td>0.113475</td>\n",
       "      <td>1156.070496</td>\n",
       "      <td>1497.668176</td>\n",
       "      <td>2170.053545</td>\n",
       "      <td>0.058613</td>\n",
       "      <td>-233.860772</td>\n",
       "      <td>...</td>\n",
       "      <td>-2.250578</td>\n",
       "      <td>3.959198</td>\n",
       "      <td>5.322555</td>\n",
       "      <td>0.812028</td>\n",
       "      <td>-1.107202</td>\n",
       "      <td>-4.556555</td>\n",
       "      <td>-2.436490</td>\n",
       "      <td>3.316913</td>\n",
       "      <td>-0.608485</td>\n",
       "      <td>blues</td>\n",
       "    </tr>\n",
       "    <tr>\n",
       "      <th>2</th>\n",
       "      <td>blues.00031.au</td>\n",
       "      <td>151.999081</td>\n",
       "      <td>75</td>\n",
       "      <td>0.253487</td>\n",
       "      <td>0.151571</td>\n",
       "      <td>1331.073970</td>\n",
       "      <td>1973.643437</td>\n",
       "      <td>2900.174130</td>\n",
       "      <td>0.042967</td>\n",
       "      <td>-221.802549</td>\n",
       "      <td>...</td>\n",
       "      <td>-13.037723</td>\n",
       "      <td>-12.652228</td>\n",
       "      <td>-1.821905</td>\n",
       "      <td>-7.260097</td>\n",
       "      <td>-6.660252</td>\n",
       "      <td>-14.682694</td>\n",
       "      <td>-11.719264</td>\n",
       "      <td>-11.025216</td>\n",
       "      <td>-13.387260</td>\n",
       "      <td>blues</td>\n",
       "    </tr>\n",
       "    <tr>\n",
       "      <th>3</th>\n",
       "      <td>blues.00012.au</td>\n",
       "      <td>184.570312</td>\n",
       "      <td>91</td>\n",
       "      <td>0.269320</td>\n",
       "      <td>0.119072</td>\n",
       "      <td>1361.045467</td>\n",
       "      <td>1567.804596</td>\n",
       "      <td>2739.625101</td>\n",
       "      <td>0.069124</td>\n",
       "      <td>-207.208080</td>\n",
       "      <td>...</td>\n",
       "      <td>-0.613248</td>\n",
       "      <td>0.384877</td>\n",
       "      <td>2.605128</td>\n",
       "      <td>-5.188924</td>\n",
       "      <td>-9.527455</td>\n",
       "      <td>-9.244394</td>\n",
       "      <td>-2.848274</td>\n",
       "      <td>-1.418707</td>\n",
       "      <td>-5.932607</td>\n",
       "      <td>blues</td>\n",
       "    </tr>\n",
       "    <tr>\n",
       "      <th>4</th>\n",
       "      <td>blues.00056.au</td>\n",
       "      <td>161.499023</td>\n",
       "      <td>74</td>\n",
       "      <td>0.391059</td>\n",
       "      <td>0.137728</td>\n",
       "      <td>1811.076084</td>\n",
       "      <td>2052.332563</td>\n",
       "      <td>3927.809582</td>\n",
       "      <td>0.075480</td>\n",
       "      <td>-145.434568</td>\n",
       "      <td>...</td>\n",
       "      <td>7.457218</td>\n",
       "      <td>-10.470444</td>\n",
       "      <td>-2.360483</td>\n",
       "      <td>-6.783623</td>\n",
       "      <td>2.671134</td>\n",
       "      <td>-4.760879</td>\n",
       "      <td>-0.949005</td>\n",
       "      <td>0.024832</td>\n",
       "      <td>-2.005315</td>\n",
       "      <td>blues</td>\n",
       "    </tr>\n",
       "    <tr>\n",
       "      <th>...</th>\n",
       "      <td>...</td>\n",
       "      <td>...</td>\n",
       "      <td>...</td>\n",
       "      <td>...</td>\n",
       "      <td>...</td>\n",
       "      <td>...</td>\n",
       "      <td>...</td>\n",
       "      <td>...</td>\n",
       "      <td>...</td>\n",
       "      <td>...</td>\n",
       "      <td>...</td>\n",
       "      <td>...</td>\n",
       "      <td>...</td>\n",
       "      <td>...</td>\n",
       "      <td>...</td>\n",
       "      <td>...</td>\n",
       "      <td>...</td>\n",
       "      <td>...</td>\n",
       "      <td>...</td>\n",
       "      <td>...</td>\n",
       "      <td>...</td>\n",
       "    </tr>\n",
       "    <tr>\n",
       "      <th>995</th>\n",
       "      <td>rock.00017.au</td>\n",
       "      <td>123.046875</td>\n",
       "      <td>59</td>\n",
       "      <td>0.418812</td>\n",
       "      <td>0.166056</td>\n",
       "      <td>2312.030070</td>\n",
       "      <td>2060.825761</td>\n",
       "      <td>4528.197619</td>\n",
       "      <td>0.140588</td>\n",
       "      <td>-41.402023</td>\n",
       "      <td>...</td>\n",
       "      <td>11.303100</td>\n",
       "      <td>-14.155566</td>\n",
       "      <td>2.824157</td>\n",
       "      <td>-9.477822</td>\n",
       "      <td>3.331261</td>\n",
       "      <td>-8.200088</td>\n",
       "      <td>3.693091</td>\n",
       "      <td>-3.673562</td>\n",
       "      <td>-0.163201</td>\n",
       "      <td>rock</td>\n",
       "    </tr>\n",
       "    <tr>\n",
       "      <th>996</th>\n",
       "      <td>rock.00081.au</td>\n",
       "      <td>117.453835</td>\n",
       "      <td>56</td>\n",
       "      <td>0.335774</td>\n",
       "      <td>0.093676</td>\n",
       "      <td>2553.856706</td>\n",
       "      <td>2219.090892</td>\n",
       "      <td>5123.752351</td>\n",
       "      <td>0.136173</td>\n",
       "      <td>-121.410791</td>\n",
       "      <td>...</td>\n",
       "      <td>9.149520</td>\n",
       "      <td>-10.112054</td>\n",
       "      <td>4.211237</td>\n",
       "      <td>-9.349345</td>\n",
       "      <td>1.609701</td>\n",
       "      <td>-10.553566</td>\n",
       "      <td>1.066489</td>\n",
       "      <td>-1.654875</td>\n",
       "      <td>7.544224</td>\n",
       "      <td>rock</td>\n",
       "    </tr>\n",
       "    <tr>\n",
       "      <th>997</th>\n",
       "      <td>rock.00004.au</td>\n",
       "      <td>103.359375</td>\n",
       "      <td>45</td>\n",
       "      <td>0.372834</td>\n",
       "      <td>0.208743</td>\n",
       "      <td>1345.850763</td>\n",
       "      <td>1841.748033</td>\n",
       "      <td>2939.265560</td>\n",
       "      <td>0.041099</td>\n",
       "      <td>-127.946876</td>\n",
       "      <td>...</td>\n",
       "      <td>11.043714</td>\n",
       "      <td>-8.385375</td>\n",
       "      <td>2.111019</td>\n",
       "      <td>-6.338260</td>\n",
       "      <td>0.997383</td>\n",
       "      <td>-5.325869</td>\n",
       "      <td>-0.842192</td>\n",
       "      <td>-4.665996</td>\n",
       "      <td>-4.787677</td>\n",
       "      <td>rock</td>\n",
       "    </tr>\n",
       "    <tr>\n",
       "      <th>998</th>\n",
       "      <td>rock.00006.au</td>\n",
       "      <td>112.347147</td>\n",
       "      <td>45</td>\n",
       "      <td>0.344472</td>\n",
       "      <td>0.180163</td>\n",
       "      <td>1675.475369</td>\n",
       "      <td>1653.422860</td>\n",
       "      <td>3253.563659</td>\n",
       "      <td>0.087294</td>\n",
       "      <td>-98.356322</td>\n",
       "      <td>...</td>\n",
       "      <td>2.945863</td>\n",
       "      <td>-12.509212</td>\n",
       "      <td>0.091337</td>\n",
       "      <td>-0.774780</td>\n",
       "      <td>-5.700102</td>\n",
       "      <td>-8.630916</td>\n",
       "      <td>-1.903803</td>\n",
       "      <td>-2.196753</td>\n",
       "      <td>-3.395148</td>\n",
       "      <td>rock</td>\n",
       "    </tr>\n",
       "    <tr>\n",
       "      <th>999</th>\n",
       "      <td>rock.00066.au</td>\n",
       "      <td>75.999540</td>\n",
       "      <td>36</td>\n",
       "      <td>0.360098</td>\n",
       "      <td>0.042995</td>\n",
       "      <td>2209.357588</td>\n",
       "      <td>2175.214294</td>\n",
       "      <td>4575.588999</td>\n",
       "      <td>0.107147</td>\n",
       "      <td>-245.160921</td>\n",
       "      <td>...</td>\n",
       "      <td>0.813777</td>\n",
       "      <td>-13.018359</td>\n",
       "      <td>0.053168</td>\n",
       "      <td>-8.232851</td>\n",
       "      <td>1.059255</td>\n",
       "      <td>-8.031864</td>\n",
       "      <td>-0.397097</td>\n",
       "      <td>-4.349921</td>\n",
       "      <td>-4.220998</td>\n",
       "      <td>rock</td>\n",
       "    </tr>\n",
       "  </tbody>\n",
       "</table>\n",
       "<p>1000 rows × 30 columns</p>\n",
       "</div>"
      ],
      "text/plain": [
       "           filename       tempo  beats  chroma_stft      rmse  \\\n",
       "0    blues.00081.au  103.359375     50     0.380260  0.248262   \n",
       "1    blues.00022.au   95.703125     44     0.306451  0.113475   \n",
       "2    blues.00031.au  151.999081     75     0.253487  0.151571   \n",
       "3    blues.00012.au  184.570312     91     0.269320  0.119072   \n",
       "4    blues.00056.au  161.499023     74     0.391059  0.137728   \n",
       "..              ...         ...    ...          ...       ...   \n",
       "995   rock.00017.au  123.046875     59     0.418812  0.166056   \n",
       "996   rock.00081.au  117.453835     56     0.335774  0.093676   \n",
       "997   rock.00004.au  103.359375     45     0.372834  0.208743   \n",
       "998   rock.00006.au  112.347147     45     0.344472  0.180163   \n",
       "999   rock.00066.au   75.999540     36     0.360098  0.042995   \n",
       "\n",
       "     spectral_centroid  spectral_bandwidth      rolloff  zero_crossing_rate  \\\n",
       "0          2116.942959         1956.611056  4196.107960            0.127272   \n",
       "1          1156.070496         1497.668176  2170.053545            0.058613   \n",
       "2          1331.073970         1973.643437  2900.174130            0.042967   \n",
       "3          1361.045467         1567.804596  2739.625101            0.069124   \n",
       "4          1811.076084         2052.332563  3927.809582            0.075480   \n",
       "..                 ...                 ...          ...                 ...   \n",
       "995        2312.030070         2060.825761  4528.197619            0.140588   \n",
       "996        2553.856706         2219.090892  5123.752351            0.136173   \n",
       "997        1345.850763         1841.748033  2939.265560            0.041099   \n",
       "998        1675.475369         1653.422860  3253.563659            0.087294   \n",
       "999        2209.357588         2175.214294  4575.588999            0.107147   \n",
       "\n",
       "          mfcc1  ...     mfcc12     mfcc13    mfcc14    mfcc15    mfcc16  \\\n",
       "0    -26.929785  ...  14.336612 -13.821769  7.562789 -6.181372  0.330165   \n",
       "1   -233.860772  ...  -2.250578   3.959198  5.322555  0.812028 -1.107202   \n",
       "2   -221.802549  ... -13.037723 -12.652228 -1.821905 -7.260097 -6.660252   \n",
       "3   -207.208080  ...  -0.613248   0.384877  2.605128 -5.188924 -9.527455   \n",
       "4   -145.434568  ...   7.457218 -10.470444 -2.360483 -6.783623  2.671134   \n",
       "..          ...  ...        ...        ...       ...       ...       ...   \n",
       "995  -41.402023  ...  11.303100 -14.155566  2.824157 -9.477822  3.331261   \n",
       "996 -121.410791  ...   9.149520 -10.112054  4.211237 -9.349345  1.609701   \n",
       "997 -127.946876  ...  11.043714  -8.385375  2.111019 -6.338260  0.997383   \n",
       "998  -98.356322  ...   2.945863 -12.509212  0.091337 -0.774780 -5.700102   \n",
       "999 -245.160921  ...   0.813777 -13.018359  0.053168 -8.232851  1.059255   \n",
       "\n",
       "        mfcc17     mfcc18     mfcc19     mfcc20  label  \n",
       "0    -6.829571   0.965922  -7.570825   2.918987  blues  \n",
       "1    -4.556555  -2.436490   3.316913  -0.608485  blues  \n",
       "2   -14.682694 -11.719264 -11.025216 -13.387260  blues  \n",
       "3    -9.244394  -2.848274  -1.418707  -5.932607  blues  \n",
       "4    -4.760879  -0.949005   0.024832  -2.005315  blues  \n",
       "..         ...        ...        ...        ...    ...  \n",
       "995  -8.200088   3.693091  -3.673562  -0.163201   rock  \n",
       "996 -10.553566   1.066489  -1.654875   7.544224   rock  \n",
       "997  -5.325869  -0.842192  -4.665996  -4.787677   rock  \n",
       "998  -8.630916  -1.903803  -2.196753  -3.395148   rock  \n",
       "999  -8.031864  -0.397097  -4.349921  -4.220998   rock  \n",
       "\n",
       "[1000 rows x 30 columns]"
      ]
     },
     "execution_count": 2,
     "metadata": {},
     "output_type": "execute_result"
    }
   ],
   "source": [
    "df1 = pd.read_csv(\"data.csv\")\n",
    "df1"
   ]
  },
  {
   "cell_type": "code",
   "execution_count": 3,
   "id": "8cfaaefb",
   "metadata": {},
   "outputs": [
    {
     "data": {
      "text/plain": [
       "filename               object\n",
       "tempo                 float64\n",
       "beats                   int64\n",
       "chroma_stft           float64\n",
       "rmse                  float64\n",
       "spectral_centroid     float64\n",
       "spectral_bandwidth    float64\n",
       "rolloff               float64\n",
       "zero_crossing_rate    float64\n",
       "mfcc1                 float64\n",
       "mfcc2                 float64\n",
       "mfcc3                 float64\n",
       "mfcc4                 float64\n",
       "mfcc5                 float64\n",
       "mfcc6                 float64\n",
       "mfcc7                 float64\n",
       "mfcc8                 float64\n",
       "mfcc9                 float64\n",
       "mfcc10                float64\n",
       "mfcc11                float64\n",
       "mfcc12                float64\n",
       "mfcc13                float64\n",
       "mfcc14                float64\n",
       "mfcc15                float64\n",
       "mfcc16                float64\n",
       "mfcc17                float64\n",
       "mfcc18                float64\n",
       "mfcc19                float64\n",
       "mfcc20                float64\n",
       "label                  object\n",
       "dtype: object"
      ]
     },
     "execution_count": 3,
     "metadata": {},
     "output_type": "execute_result"
    }
   ],
   "source": [
    "df1.dtypes"
   ]
  },
  {
   "cell_type": "code",
   "execution_count": 4,
   "id": "b19ef20f",
   "metadata": {},
   "outputs": [],
   "source": [
    "from sklearn.model_selection import train_test_split\n",
    "from sklearn.preprocessing import StandardScaler\n",
    "from sklearn.svm import SVC\n",
    "from sklearn.metrics import classification_report, accuracy_score, confusion_matrix\n",
    "from sklearn.metrics import hinge_loss"
   ]
  },
  {
   "cell_type": "code",
   "execution_count": 5,
   "id": "20d8415d",
   "metadata": {},
   "outputs": [],
   "source": [
    "# Select features and target variable\n",
    "X = df1[['tempo', 'beats', 'chroma_stft', 'rmse', 'spectral_centroid', 'spectral_bandwidth', 'rolloff', 'zero_crossing_rate']]\n",
    "y = df1['label']"
   ]
  },
  {
   "cell_type": "code",
   "execution_count": 6,
   "id": "99c7bd44",
   "metadata": {},
   "outputs": [],
   "source": [
    "# Split the data into training and testing sets\n",
    "X_train, X_test, y_train, y_test = train_test_split(X, y, test_size=0.2, random_state=42)"
   ]
  },
  {
   "cell_type": "markdown",
   "id": "5ab8400f",
   "metadata": {},
   "source": [
    "## Task2: Loss  Functions - dataset1"
   ]
  },
  {
   "cell_type": "markdown",
   "id": "97430ce9",
   "metadata": {},
   "source": [
    "Using default loss function **Hinge Loss**"
   ]
  },
  {
   "cell_type": "code",
   "execution_count": 7,
   "id": "a0bea12d",
   "metadata": {},
   "outputs": [
    {
     "data": {
      "text/html": [
       "<style>#sk-container-id-1 {color: black;}#sk-container-id-1 pre{padding: 0;}#sk-container-id-1 div.sk-toggleable {background-color: white;}#sk-container-id-1 label.sk-toggleable__label {cursor: pointer;display: block;width: 100%;margin-bottom: 0;padding: 0.3em;box-sizing: border-box;text-align: center;}#sk-container-id-1 label.sk-toggleable__label-arrow:before {content: \"▸\";float: left;margin-right: 0.25em;color: #696969;}#sk-container-id-1 label.sk-toggleable__label-arrow:hover:before {color: black;}#sk-container-id-1 div.sk-estimator:hover label.sk-toggleable__label-arrow:before {color: black;}#sk-container-id-1 div.sk-toggleable__content {max-height: 0;max-width: 0;overflow: hidden;text-align: left;background-color: #f0f8ff;}#sk-container-id-1 div.sk-toggleable__content pre {margin: 0.2em;color: black;border-radius: 0.25em;background-color: #f0f8ff;}#sk-container-id-1 input.sk-toggleable__control:checked~div.sk-toggleable__content {max-height: 200px;max-width: 100%;overflow: auto;}#sk-container-id-1 input.sk-toggleable__control:checked~label.sk-toggleable__label-arrow:before {content: \"▾\";}#sk-container-id-1 div.sk-estimator input.sk-toggleable__control:checked~label.sk-toggleable__label {background-color: #d4ebff;}#sk-container-id-1 div.sk-label input.sk-toggleable__control:checked~label.sk-toggleable__label {background-color: #d4ebff;}#sk-container-id-1 input.sk-hidden--visually {border: 0;clip: rect(1px 1px 1px 1px);clip: rect(1px, 1px, 1px, 1px);height: 1px;margin: -1px;overflow: hidden;padding: 0;position: absolute;width: 1px;}#sk-container-id-1 div.sk-estimator {font-family: monospace;background-color: #f0f8ff;border: 1px dotted black;border-radius: 0.25em;box-sizing: border-box;margin-bottom: 0.5em;}#sk-container-id-1 div.sk-estimator:hover {background-color: #d4ebff;}#sk-container-id-1 div.sk-parallel-item::after {content: \"\";width: 100%;border-bottom: 1px solid gray;flex-grow: 1;}#sk-container-id-1 div.sk-label:hover label.sk-toggleable__label {background-color: #d4ebff;}#sk-container-id-1 div.sk-serial::before {content: \"\";position: absolute;border-left: 1px solid gray;box-sizing: border-box;top: 0;bottom: 0;left: 50%;z-index: 0;}#sk-container-id-1 div.sk-serial {display: flex;flex-direction: column;align-items: center;background-color: white;padding-right: 0.2em;padding-left: 0.2em;position: relative;}#sk-container-id-1 div.sk-item {position: relative;z-index: 1;}#sk-container-id-1 div.sk-parallel {display: flex;align-items: stretch;justify-content: center;background-color: white;position: relative;}#sk-container-id-1 div.sk-item::before, #sk-container-id-1 div.sk-parallel-item::before {content: \"\";position: absolute;border-left: 1px solid gray;box-sizing: border-box;top: 0;bottom: 0;left: 50%;z-index: -1;}#sk-container-id-1 div.sk-parallel-item {display: flex;flex-direction: column;z-index: 1;position: relative;background-color: white;}#sk-container-id-1 div.sk-parallel-item:first-child::after {align-self: flex-end;width: 50%;}#sk-container-id-1 div.sk-parallel-item:last-child::after {align-self: flex-start;width: 50%;}#sk-container-id-1 div.sk-parallel-item:only-child::after {width: 0;}#sk-container-id-1 div.sk-dashed-wrapped {border: 1px dashed gray;margin: 0 0.4em 0.5em 0.4em;box-sizing: border-box;padding-bottom: 0.4em;background-color: white;}#sk-container-id-1 div.sk-label label {font-family: monospace;font-weight: bold;display: inline-block;line-height: 1.2em;}#sk-container-id-1 div.sk-label-container {text-align: center;}#sk-container-id-1 div.sk-container {/* jupyter's `normalize.less` sets `[hidden] { display: none; }` but bootstrap.min.css set `[hidden] { display: none !important; }` so we also need the `!important` here to be able to override the default hidden behavior on the sphinx rendered scikit-learn.org. See: https://github.com/scikit-learn/scikit-learn/issues/21755 */display: inline-block !important;position: relative;}#sk-container-id-1 div.sk-text-repr-fallback {display: none;}</style><div id=\"sk-container-id-1\" class=\"sk-top-container\"><div class=\"sk-text-repr-fallback\"><pre>SVC()</pre><b>In a Jupyter environment, please rerun this cell to show the HTML representation or trust the notebook. <br />On GitHub, the HTML representation is unable to render, please try loading this page with nbviewer.org.</b></div><div class=\"sk-container\" hidden><div class=\"sk-item\"><div class=\"sk-estimator sk-toggleable\"><input class=\"sk-toggleable__control sk-hidden--visually\" id=\"sk-estimator-id-1\" type=\"checkbox\" checked><label for=\"sk-estimator-id-1\" class=\"sk-toggleable__label sk-toggleable__label-arrow\">SVC</label><div class=\"sk-toggleable__content\"><pre>SVC()</pre></div></div></div></div></div>"
      ],
      "text/plain": [
       "SVC()"
      ]
     },
     "execution_count": 7,
     "metadata": {},
     "output_type": "execute_result"
    }
   ],
   "source": [
    "# Standardize the features\n",
    "scaler = StandardScaler()\n",
    "X_train_scaled = scaler.fit_transform(X_train)\n",
    "X_test_scaled = scaler.transform(X_test)\n",
    "model = SVC(kernel='rbf', C=1.0, gamma='scale')\n",
    "#  change\n",
    "model.fit(X_train_scaled, y_train)"
   ]
  },
  {
   "cell_type": "code",
   "execution_count": 8,
   "id": "7b69b376",
   "metadata": {},
   "outputs": [
    {
     "data": {
      "text/plain": [
       "array(['disco', 'pop', 'pop', 'metal', 'pop', 'metal', 'metal', 'jazz',\n",
       "       'metal', 'blues', 'rock', 'jazz', 'metal', 'country', 'reggae',\n",
       "       'reggae', 'blues', 'hiphop', 'pop', 'disco', 'blues', 'blues',\n",
       "       'metal', 'country', 'rock', 'jazz', 'classical', 'country',\n",
       "       'metal', 'rock', 'disco', 'classical', 'metal', 'metal', 'metal',\n",
       "       'classical', 'disco', 'disco', 'blues', 'country', 'disco', 'jazz',\n",
       "       'metal', 'disco', 'country', 'country', 'country', 'metal',\n",
       "       'hiphop', 'blues', 'classical', 'hiphop', 'country', 'country',\n",
       "       'disco', 'reggae', 'metal', 'jazz', 'pop', 'reggae', 'jazz',\n",
       "       'blues', 'jazz', 'blues', 'metal', 'metal', 'metal', 'disco',\n",
       "       'blues', 'classical', 'classical', 'metal', 'classical', 'pop',\n",
       "       'country', 'classical', 'metal', 'blues', 'jazz', 'disco', 'rock',\n",
       "       'blues', 'blues', 'disco', 'disco', 'country', 'blues', 'country',\n",
       "       'pop', 'reggae', 'rock', 'hiphop', 'jazz', 'blues', 'country',\n",
       "       'hiphop', 'pop', 'jazz', 'reggae', 'reggae', 'jazz', 'pop',\n",
       "       'metal', 'disco', 'metal', 'metal', 'pop', 'jazz', 'classical',\n",
       "       'rock', 'blues', 'pop', 'jazz', 'pop', 'metal', 'hiphop',\n",
       "       'classical', 'country', 'disco', 'blues', 'reggae', 'country',\n",
       "       'pop', 'reggae', 'blues', 'jazz', 'jazz', 'reggae', 'blues',\n",
       "       'reggae', 'jazz', 'jazz', 'country', 'metal', 'country',\n",
       "       'classical', 'classical', 'blues', 'metal', 'jazz', 'blues',\n",
       "       'country', 'pop', 'country', 'blues', 'blues', 'country', 'rock',\n",
       "       'hiphop', 'disco', 'metal', 'classical', 'disco', 'hiphop',\n",
       "       'country', 'hiphop', 'disco', 'reggae', 'metal', 'reggae', 'jazz',\n",
       "       'pop', 'metal', 'metal', 'reggae', 'disco', 'rock', 'metal',\n",
       "       'hiphop', 'disco', 'disco', 'metal', 'classical', 'disco',\n",
       "       'hiphop', 'disco', 'disco', 'country', 'hiphop', 'disco', 'metal',\n",
       "       'hiphop', 'disco', 'blues', 'classical', 'classical', 'disco',\n",
       "       'disco', 'rock', 'pop', 'metal', 'reggae', 'metal', 'classical',\n",
       "       'disco', 'reggae', 'rock', 'pop', 'metal', 'country'], dtype=object)"
      ]
     },
     "execution_count": 8,
     "metadata": {},
     "output_type": "execute_result"
    }
   ],
   "source": [
    "# Make predictions on the test set\n",
    "y_pred = model.predict(X_test_scaled)\n",
    "y_pred "
   ]
  },
  {
   "cell_type": "code",
   "execution_count": 9,
   "id": "4359cef2",
   "metadata": {},
   "outputs": [],
   "source": [
    "import warnings\n",
    "warnings.filterwarnings(\"ignore\", category=UserWarning)"
   ]
  },
  {
   "cell_type": "code",
   "execution_count": 10,
   "id": "853c4c89",
   "metadata": {
    "scrolled": true
   },
   "outputs": [
    {
     "name": "stdout",
     "output_type": "stream",
     "text": [
      "Hinge Loss: 2.032822755626293\n",
      "Log Loss: 2.170280741547467\n"
     ]
    }
   ],
   "source": [
    "loss = hinge_loss(y_test, model.decision_function(X_test_scaled))\n",
    "print(f\"Hinge Loss: {loss}\")\n",
    "\n",
    "from sklearn.metrics import log_loss\n",
    "logloss = log_loss(y_test, model.decision_function(X_test_scaled))\n",
    "print(f\"Log Loss: {logloss}\")"
   ]
  },
  {
   "cell_type": "markdown",
   "id": "ea0f8982",
   "metadata": {},
   "source": [
    "## Task3: Comparison of Loss Functions - dataset1"
   ]
  },
  {
   "cell_type": "code",
   "execution_count": 11,
   "id": "1e550d2c",
   "metadata": {},
   "outputs": [
    {
     "data": {
      "image/png": "[encoded data removed]",
      "text/plain": [
       "<Figure size 640x480 with 1 Axes>"
      ]
     },
     "metadata": {},
     "output_type": "display_data"
    }
   ],
   "source": [
    "import matplotlib.pyplot as plt\n",
    "labels = ['Hinge Loss', 'Log Loss']\n",
    "values = [loss, logloss]\n",
    "\n",
    "plt.bar(labels, values, color=['blue', 'red'])\n",
    "plt.ylabel('Loss')\n",
    "plt.title('Comparison of Hinge Loss and Log Loss')\n",
    "plt.show()"
   ]
  },
  {
   "cell_type": "markdown",
   "id": "ca62bd1f",
   "metadata": {},
   "source": [
    "## Task4: Metrics assement - dataset1"
   ]
  },
  {
   "cell_type": "code",
   "execution_count": 12,
   "id": "7d32815b",
   "metadata": {},
   "outputs": [
    {
     "data": {
      "text/plain": [
       "0.46"
      ]
     },
     "execution_count": 12,
     "metadata": {},
     "output_type": "execute_result"
    }
   ],
   "source": [
    "# Evaluate the model\n",
    "accuracy = accuracy_score(y_test, y_pred)\n",
    "accuracy"
   ]
  },
  {
   "cell_type": "code",
   "execution_count": 13,
   "id": "73583b6d",
   "metadata": {
    "scrolled": true
   },
   "outputs": [
    {
     "name": "stdout",
     "output_type": "stream",
     "text": [
      "\n",
      "Confusion Matrix:\n",
      "\n"
     ]
    },
    {
     "data": {
      "text/plain": [
       "array([[ 5,  1,  2,  2,  0,  5,  3,  0,  2,  0],\n",
       "       [ 2, 11,  0,  0,  0,  0,  0,  0,  0,  0],\n",
       "       [ 7,  1,  8,  3,  0,  2,  0,  2,  1,  3],\n",
       "       [ 0,  0,  0, 13,  1,  0,  3,  1,  1,  2],\n",
       "       [ 0,  0,  1,  0,  7,  0,  4,  1,  2,  0],\n",
       "       [ 3,  3,  4,  3,  0,  8,  0,  1,  0,  0],\n",
       "       [ 0,  0,  0,  3,  1,  0, 19,  0,  1,  1],\n",
       "       [ 0,  0,  2,  0,  0,  1,  0, 10,  0,  0],\n",
       "       [ 3,  1,  1,  1,  4,  1,  1,  2,  8,  1],\n",
       "       [ 3,  0,  5,  3,  0,  2,  4,  0,  1,  3]], dtype=int64)"
      ]
     },
     "execution_count": 13,
     "metadata": {},
     "output_type": "execute_result"
    }
   ],
   "source": [
    "conf_matrix = confusion_matrix(y_test, y_pred)\n",
    "print(\"\\nConfusion Matrix:\\n\")\n",
    "conf_matrix"
   ]
  },
  {
   "cell_type": "code",
   "execution_count": 14,
   "id": "5c933f0b",
   "metadata": {},
   "outputs": [
    {
     "name": "stdout",
     "output_type": "stream",
     "text": [
      "\n",
      "Classification Report:\n",
      "\n",
      "              precision    recall  f1-score   support\n",
      "\n",
      "       blues       0.22      0.25      0.23        20\n",
      "   classical       0.65      0.85      0.73        13\n",
      "     country       0.35      0.30      0.32        27\n",
      "       disco       0.46      0.62      0.53        21\n",
      "      hiphop       0.54      0.47      0.50        15\n",
      "        jazz       0.42      0.36      0.39        22\n",
      "       metal       0.56      0.76      0.64        25\n",
      "         pop       0.59      0.77      0.67        13\n",
      "      reggae       0.50      0.35      0.41        23\n",
      "        rock       0.30      0.14      0.19        21\n",
      "\n",
      "    accuracy                           0.46       200\n",
      "   macro avg       0.46      0.49      0.46       200\n",
      "weighted avg       0.44      0.46      0.44       200\n",
      "\n"
     ]
    }
   ],
   "source": [
    "classification_rep = classification_report(y_test, y_pred)\n",
    "print(\"\\nClassification Report:\\n\")\n",
    "print(classification_rep)"
   ]
  },
  {
   "cell_type": "code",
   "execution_count": 15,
   "id": "633f485f",
   "metadata": {},
   "outputs": [
    {
     "data": {
      "image/png": "[encoded data removed]",
      "text/plain": [
       "<Figure size 800x600 with 1 Axes>"
      ]
     },
     "metadata": {},
     "output_type": "display_data"
    }
   ],
   "source": [
    "# Visualize the confusion matrix\n",
    "plt.figure(figsize=(8, 6))\n",
    "sns.heatmap(conf_matrix, annot=True, fmt='d', cmap='Blues', cbar=False,\n",
    "            xticklabels=model.classes_, yticklabels=model.classes_)\n",
    "plt.title('Confusion Matrix')\n",
    "plt.xlabel('Predicted Label')\n",
    "plt.ylabel('True Label')\n",
    "plt.show()"
   ]
  },
  {
   "cell_type": "markdown",
   "id": "60e52204",
   "metadata": {},
   "source": [
    "# Dataset2: housing"
   ]
  },
  {
   "cell_type": "code",
   "execution_count": 16,
   "id": "a7814400",
   "metadata": {},
   "outputs": [],
   "source": [
    "from sklearn.preprocessing import OneHotEncoder\n",
    "from sklearn.compose import ColumnTransformer\n",
    "from sklearn.pipeline import Pipeline\n",
    "from sklearn.ensemble import RandomForestRegressor\n",
    "from sklearn.metrics import mean_squared_error"
   ]
  },
  {
   "cell_type": "code",
   "execution_count": 17,
   "id": "a9410f67",
   "metadata": {},
   "outputs": [],
   "source": [
    "df2 = pd.read_csv(\"Housing.csv\")"
   ]
  },
  {
   "cell_type": "code",
   "execution_count": 18,
   "id": "97c8d646",
   "metadata": {},
   "outputs": [
    {
     "data": {
      "text/plain": [
       "0      13300000\n",
       "1      12250000\n",
       "2      12250000\n",
       "3      12215000\n",
       "4      11410000\n",
       "         ...   \n",
       "540     1820000\n",
       "541     1767150\n",
       "542     1750000\n",
       "543     1750000\n",
       "544     1750000\n",
       "Name: price, Length: 545, dtype: int64"
      ]
     },
     "execution_count": 18,
     "metadata": {},
     "output_type": "execute_result"
    }
   ],
   "source": [
    "# Select features and target variable\n",
    "X = df2[['area', 'bedrooms', 'bathrooms', 'stories', 'mainroad', 'guestroom', 'basement', \n",
    "        'hotwaterheating', 'airconditioning', 'parking', 'prefarea', 'furnishingstatus']]\n",
    "y = df2['price']\n",
    "y"
   ]
  },
  {
   "cell_type": "code",
   "execution_count": 19,
   "id": "fc5909ef",
   "metadata": {},
   "outputs": [
    {
     "data": {
      "text/plain": [
       "46     7525000\n",
       "93     6300000\n",
       "335    3920000\n",
       "412    3430000\n",
       "471    3010000\n",
       "        ...   \n",
       "71     6755000\n",
       "106    6160000\n",
       "270    4340000\n",
       "435    3290000\n",
       "102    6195000\n",
       "Name: price, Length: 436, dtype: int64"
      ]
     },
     "execution_count": 19,
     "metadata": {},
     "output_type": "execute_result"
    }
   ],
   "source": [
    "# Split the data into training and testing sets\n",
    "X_train, X_test, y_train, y_test = train_test_split(X, y, test_size=0.2, random_state=42)\n",
    "y_train"
   ]
  },
  {
   "cell_type": "code",
   "execution_count": 20,
   "id": "e15fd2b9",
   "metadata": {},
   "outputs": [],
   "source": [
    "# Define numeric and categorical features\n",
    "numeric_features = ['area', 'bedrooms', 'bathrooms', 'stories', 'parking']\n",
    "categorical_features = ['mainroad', 'guestroom', 'basement', 'hotwaterheating', \n",
    "                         'airconditioning', 'prefarea', 'furnishingstatus']\n",
    "# Create transformers for preprocessing\n",
    "numeric_transformer = Pipeline(steps=[('scaler', StandardScaler())])\n",
    "categorical_transformer = Pipeline(steps=[('onehot', OneHotEncoder(drop='first'))])\n",
    "\n",
    "# Create a column transformer to apply transformers to the respective feature groups\n",
    "preprocessor = ColumnTransformer(\n",
    "    transformers=[\n",
    "        ('num', numeric_transformer, numeric_features),\n",
    "        ('cat', categorical_transformer, categorical_features)\n",
    "    ])"
   ]
  },
  {
   "cell_type": "code",
   "execution_count": 21,
   "id": "ae473752",
   "metadata": {},
   "outputs": [
    {
     "data": {
      "text/html": [
       "<style>#sk-container-id-2 {color: black;}#sk-container-id-2 pre{padding: 0;}#sk-container-id-2 div.sk-toggleable {background-color: white;}#sk-container-id-2 label.sk-toggleable__label {cursor: pointer;display: block;width: 100%;margin-bottom: 0;padding: 0.3em;box-sizing: border-box;text-align: center;}#sk-container-id-2 label.sk-toggleable__label-arrow:before {content: \"▸\";float: left;margin-right: 0.25em;color: #696969;}#sk-container-id-2 label.sk-toggleable__label-arrow:hover:before {color: black;}#sk-container-id-2 div.sk-estimator:hover label.sk-toggleable__label-arrow:before {color: black;}#sk-container-id-2 div.sk-toggleable__content {max-height: 0;max-width: 0;overflow: hidden;text-align: left;background-color: #f0f8ff;}#sk-container-id-2 div.sk-toggleable__content pre {margin: 0.2em;color: black;border-radius: 0.25em;background-color: #f0f8ff;}#sk-container-id-2 input.sk-toggleable__control:checked~div.sk-toggleable__content {max-height: 200px;max-width: 100%;overflow: auto;}#sk-container-id-2 input.sk-toggleable__control:checked~label.sk-toggleable__label-arrow:before {content: \"▾\";}#sk-container-id-2 div.sk-estimator input.sk-toggleable__control:checked~label.sk-toggleable__label {background-color: #d4ebff;}#sk-container-id-2 div.sk-label input.sk-toggleable__control:checked~label.sk-toggleable__label {background-color: #d4ebff;}#sk-container-id-2 input.sk-hidden--visually {border: 0;clip: rect(1px 1px 1px 1px);clip: rect(1px, 1px, 1px, 1px);height: 1px;margin: -1px;overflow: hidden;padding: 0;position: absolute;width: 1px;}#sk-container-id-2 div.sk-estimator {font-family: monospace;background-color: #f0f8ff;border: 1px dotted black;border-radius: 0.25em;box-sizing: border-box;margin-bottom: 0.5em;}#sk-container-id-2 div.sk-estimator:hover {background-color: #d4ebff;}#sk-container-id-2 div.sk-parallel-item::after {content: \"\";width: 100%;border-bottom: 1px solid gray;flex-grow: 1;}#sk-container-id-2 div.sk-label:hover label.sk-toggleable__label {background-color: #d4ebff;}#sk-container-id-2 div.sk-serial::before {content: \"\";position: absolute;border-left: 1px solid gray;box-sizing: border-box;top: 0;bottom: 0;left: 50%;z-index: 0;}#sk-container-id-2 div.sk-serial {display: flex;flex-direction: column;align-items: center;background-color: white;padding-right: 0.2em;padding-left: 0.2em;position: relative;}#sk-container-id-2 div.sk-item {position: relative;z-index: 1;}#sk-container-id-2 div.sk-parallel {display: flex;align-items: stretch;justify-content: center;background-color: white;position: relative;}#sk-container-id-2 div.sk-item::before, #sk-container-id-2 div.sk-parallel-item::before {content: \"\";position: absolute;border-left: 1px solid gray;box-sizing: border-box;top: 0;bottom: 0;left: 50%;z-index: -1;}#sk-container-id-2 div.sk-parallel-item {display: flex;flex-direction: column;z-index: 1;position: relative;background-color: white;}#sk-container-id-2 div.sk-parallel-item:first-child::after {align-self: flex-end;width: 50%;}#sk-container-id-2 div.sk-parallel-item:last-child::after {align-self: flex-start;width: 50%;}#sk-container-id-2 div.sk-parallel-item:only-child::after {width: 0;}#sk-container-id-2 div.sk-dashed-wrapped {border: 1px dashed gray;margin: 0 0.4em 0.5em 0.4em;box-sizing: border-box;padding-bottom: 0.4em;background-color: white;}#sk-container-id-2 div.sk-label label {font-family: monospace;font-weight: bold;display: inline-block;line-height: 1.2em;}#sk-container-id-2 div.sk-label-container {text-align: center;}#sk-container-id-2 div.sk-container {/* jupyter's `normalize.less` sets `[hidden] { display: none; }` but bootstrap.min.css set `[hidden] { display: none !important; }` so we also need the `!important` here to be able to override the default hidden behavior on the sphinx rendered scikit-learn.org. See: https://github.com/scikit-learn/scikit-learn/issues/21755 */display: inline-block !important;position: relative;}#sk-container-id-2 div.sk-text-repr-fallback {display: none;}</style><div id=\"sk-container-id-2\" class=\"sk-top-container\"><div class=\"sk-text-repr-fallback\"><pre>Pipeline(steps=[(&#x27;preprocessor&#x27;,\n",
       "                 ColumnTransformer(transformers=[(&#x27;num&#x27;,\n",
       "                                                  Pipeline(steps=[(&#x27;scaler&#x27;,\n",
       "                                                                   StandardScaler())]),\n",
       "                                                  [&#x27;area&#x27;, &#x27;bedrooms&#x27;,\n",
       "                                                   &#x27;bathrooms&#x27;, &#x27;stories&#x27;,\n",
       "                                                   &#x27;parking&#x27;]),\n",
       "                                                 (&#x27;cat&#x27;,\n",
       "                                                  Pipeline(steps=[(&#x27;onehot&#x27;,\n",
       "                                                                   OneHotEncoder(drop=&#x27;first&#x27;))]),\n",
       "                                                  [&#x27;mainroad&#x27;, &#x27;guestroom&#x27;,\n",
       "                                                   &#x27;basement&#x27;,\n",
       "                                                   &#x27;hotwaterheating&#x27;,\n",
       "                                                   &#x27;airconditioning&#x27;,\n",
       "                                                   &#x27;prefarea&#x27;,\n",
       "                                                   &#x27;furnishingstatus&#x27;])])),\n",
       "                (&#x27;regressor&#x27;, RandomForestRegressor(random_state=42))])</pre><b>In a Jupyter environment, please rerun this cell to show the HTML representation or trust the notebook. <br />On GitHub, the HTML representation is unable to render, please try loading this page with nbviewer.org.</b></div><div class=\"sk-container\" hidden><div class=\"sk-item sk-dashed-wrapped\"><div class=\"sk-label-container\"><div class=\"sk-label sk-toggleable\"><input class=\"sk-toggleable__control sk-hidden--visually\" id=\"sk-estimator-id-2\" type=\"checkbox\" ><label for=\"sk-estimator-id-2\" class=\"sk-toggleable__label sk-toggleable__label-arrow\">Pipeline</label><div class=\"sk-toggleable__content\"><pre>Pipeline(steps=[(&#x27;preprocessor&#x27;,\n",
       "                 ColumnTransformer(transformers=[(&#x27;num&#x27;,\n",
       "                                                  Pipeline(steps=[(&#x27;scaler&#x27;,\n",
       "                                                                   StandardScaler())]),\n",
       "                                                  [&#x27;area&#x27;, &#x27;bedrooms&#x27;,\n",
       "                                                   &#x27;bathrooms&#x27;, &#x27;stories&#x27;,\n",
       "                                                   &#x27;parking&#x27;]),\n",
       "                                                 (&#x27;cat&#x27;,\n",
       "                                                  Pipeline(steps=[(&#x27;onehot&#x27;,\n",
       "                                                                   OneHotEncoder(drop=&#x27;first&#x27;))]),\n",
       "                                                  [&#x27;mainroad&#x27;, &#x27;guestroom&#x27;,\n",
       "                                                   &#x27;basement&#x27;,\n",
       "                                                   &#x27;hotwaterheating&#x27;,\n",
       "                                                   &#x27;airconditioning&#x27;,\n",
       "                                                   &#x27;prefarea&#x27;,\n",
       "                                                   &#x27;furnishingstatus&#x27;])])),\n",
       "                (&#x27;regressor&#x27;, RandomForestRegressor(random_state=42))])</pre></div></div></div><div class=\"sk-serial\"><div class=\"sk-item sk-dashed-wrapped\"><div class=\"sk-label-container\"><div class=\"sk-label sk-toggleable\"><input class=\"sk-toggleable__control sk-hidden--visually\" id=\"sk-estimator-id-3\" type=\"checkbox\" ><label for=\"sk-estimator-id-3\" class=\"sk-toggleable__label sk-toggleable__label-arrow\">preprocessor: ColumnTransformer</label><div class=\"sk-toggleable__content\"><pre>ColumnTransformer(transformers=[(&#x27;num&#x27;,\n",
       "                                 Pipeline(steps=[(&#x27;scaler&#x27;, StandardScaler())]),\n",
       "                                 [&#x27;area&#x27;, &#x27;bedrooms&#x27;, &#x27;bathrooms&#x27;, &#x27;stories&#x27;,\n",
       "                                  &#x27;parking&#x27;]),\n",
       "                                (&#x27;cat&#x27;,\n",
       "                                 Pipeline(steps=[(&#x27;onehot&#x27;,\n",
       "                                                  OneHotEncoder(drop=&#x27;first&#x27;))]),\n",
       "                                 [&#x27;mainroad&#x27;, &#x27;guestroom&#x27;, &#x27;basement&#x27;,\n",
       "                                  &#x27;hotwaterheating&#x27;, &#x27;airconditioning&#x27;,\n",
       "                                  &#x27;prefarea&#x27;, &#x27;furnishingstatus&#x27;])])</pre></div></div></div><div class=\"sk-parallel\"><div class=\"sk-parallel-item\"><div class=\"sk-item\"><div class=\"sk-label-container\"><div class=\"sk-label sk-toggleable\"><input class=\"sk-toggleable__control sk-hidden--visually\" id=\"sk-estimator-id-4\" type=\"checkbox\" ><label for=\"sk-estimator-id-4\" class=\"sk-toggleable__label sk-toggleable__label-arrow\">num</label><div class=\"sk-toggleable__content\"><pre>[&#x27;area&#x27;, &#x27;bedrooms&#x27;, &#x27;bathrooms&#x27;, &#x27;stories&#x27;, &#x27;parking&#x27;]</pre></div></div></div><div class=\"sk-serial\"><div class=\"sk-item\"><div class=\"sk-serial\"><div class=\"sk-item\"><div class=\"sk-estimator sk-toggleable\"><input class=\"sk-toggleable__control sk-hidden--visually\" id=\"sk-estimator-id-5\" type=\"checkbox\" ><label for=\"sk-estimator-id-5\" class=\"sk-toggleable__label sk-toggleable__label-arrow\">StandardScaler</label><div class=\"sk-toggleable__content\"><pre>StandardScaler()</pre></div></div></div></div></div></div></div></div><div class=\"sk-parallel-item\"><div class=\"sk-item\"><div class=\"sk-label-container\"><div class=\"sk-label sk-toggleable\"><input class=\"sk-toggleable__control sk-hidden--visually\" id=\"sk-estimator-id-6\" type=\"checkbox\" ><label for=\"sk-estimator-id-6\" class=\"sk-toggleable__label sk-toggleable__label-arrow\">cat</label><div class=\"sk-toggleable__content\"><pre>[&#x27;mainroad&#x27;, &#x27;guestroom&#x27;, &#x27;basement&#x27;, &#x27;hotwaterheating&#x27;, &#x27;airconditioning&#x27;, &#x27;prefarea&#x27;, &#x27;furnishingstatus&#x27;]</pre></div></div></div><div class=\"sk-serial\"><div class=\"sk-item\"><div class=\"sk-serial\"><div class=\"sk-item\"><div class=\"sk-estimator sk-toggleable\"><input class=\"sk-toggleable__control sk-hidden--visually\" id=\"sk-estimator-id-7\" type=\"checkbox\" ><label for=\"sk-estimator-id-7\" class=\"sk-toggleable__label sk-toggleable__label-arrow\">OneHotEncoder</label><div class=\"sk-toggleable__content\"><pre>OneHotEncoder(drop=&#x27;first&#x27;)</pre></div></div></div></div></div></div></div></div></div></div><div class=\"sk-item\"><div class=\"sk-estimator sk-toggleable\"><input class=\"sk-toggleable__control sk-hidden--visually\" id=\"sk-estimator-id-8\" type=\"checkbox\" ><label for=\"sk-estimator-id-8\" class=\"sk-toggleable__label sk-toggleable__label-arrow\">RandomForestRegressor</label><div class=\"sk-toggleable__content\"><pre>RandomForestRegressor(random_state=42)</pre></div></div></div></div></div></div></div>"
      ],
      "text/plain": [
       "Pipeline(steps=[('preprocessor',\n",
       "                 ColumnTransformer(transformers=[('num',\n",
       "                                                  Pipeline(steps=[('scaler',\n",
       "                                                                   StandardScaler())]),\n",
       "                                                  ['area', 'bedrooms',\n",
       "                                                   'bathrooms', 'stories',\n",
       "                                                   'parking']),\n",
       "                                                 ('cat',\n",
       "                                                  Pipeline(steps=[('onehot',\n",
       "                                                                   OneHotEncoder(drop='first'))]),\n",
       "                                                  ['mainroad', 'guestroom',\n",
       "                                                   'basement',\n",
       "                                                   'hotwaterheating',\n",
       "                                                   'airconditioning',\n",
       "                                                   'prefarea',\n",
       "                                                   'furnishingstatus'])])),\n",
       "                ('regressor', RandomForestRegressor(random_state=42))])"
      ]
     },
     "execution_count": 21,
     "metadata": {},
     "output_type": "execute_result"
    }
   ],
   "source": [
    "# Create a pipeline with the preprocessor and the regressor (Random Forest in this case)\n",
    "model = Pipeline(steps=[('preprocessor', preprocessor),\n",
    "                        ('regressor', RandomForestRegressor(random_state=42))])\n",
    "\n",
    "# Train the model\n",
    "model.fit(X_train, y_train)"
   ]
  },
  {
   "cell_type": "code",
   "execution_count": 22,
   "id": "54069ccb",
   "metadata": {
    "scrolled": true
   },
   "outputs": [
    {
     "data": {
      "text/plain": [
       "array([5360180.        , 7287070.        , 3754878.75      ,\n",
       "       4518220.        , 3748885.        , 3432660.        ,\n",
       "       5070240.        , 5032580.        , 2572220.        ,\n",
       "       2822893.5       , 9952209.4       , 3347465.        ,\n",
       "       3023883.33333333, 3469340.        , 3561320.        ,\n",
       "       3912510.        , 3305785.        , 4852645.        ,\n",
       "       3669330.        , 4101405.        , 5433260.        ,\n",
       "       5932920.        , 3067236.66666667, 3658130.        ,\n",
       "       4722200.        , 6532505.        , 3083290.        ,\n",
       "       4601170.        , 6330240.        , 3258150.        ,\n",
       "       5765550.        , 3182340.        , 6748420.        ,\n",
       "       4366460.        , 2947875.        , 6350050.        ,\n",
       "       4867170.        , 3685920.        , 3106670.        ,\n",
       "       4171650.        , 4146100.        , 2857015.        ,\n",
       "       7453390.        , 4207210.        , 4011070.        ,\n",
       "       4339300.        , 7316050.        , 4098360.        ,\n",
       "       3011960.        , 3073770.        , 8131509.4       ,\n",
       "       2584050.        , 4008690.        , 4519130.        ,\n",
       "       3275510.        , 2830565.5       , 6885935.        ,\n",
       "       3006430.        , 5087460.        , 3127536.66666667,\n",
       "       4005960.        , 3581760.        , 4540480.        ,\n",
       "       4529630.        , 3857910.        , 4882780.        ,\n",
       "       6591270.        , 2930130.        , 6181595.        ,\n",
       "       5002340.        , 3851330.        , 5619880.        ,\n",
       "       4826080.        , 7479500.        , 2973390.        ,\n",
       "       5160960.        , 4285190.        , 4572190.        ,\n",
       "       4836860.        , 4599840.        , 8357399.4       ,\n",
       "       4252430.        , 5449885.        , 5894420.        ,\n",
       "       3061100.        , 5744235.        , 2954840.        ,\n",
       "       4101790.        , 8694707.        , 8796480.        ,\n",
       "       3413756.5       , 5803980.        , 3701530.        ,\n",
       "       3661175.        , 9520350.        , 4358340.        ,\n",
       "       4890830.        , 6186740.        , 4303075.        ,\n",
       "       6110475.        , 4309200.        , 6777470.        ,\n",
       "       3854410.        , 4272730.        , 6812295.        ,\n",
       "       5391995.        , 7343700.        , 7322070.        ,\n",
       "       6512835.        ])"
      ]
     },
     "execution_count": 22,
     "metadata": {},
     "output_type": "execute_result"
    }
   ],
   "source": [
    "# Make predictions on the test set\n",
    "y_pred = model.predict(X_test)\n",
    "y_pred"
   ]
  },
  {
   "cell_type": "markdown",
   "id": "df6d37fa",
   "metadata": {},
   "source": [
    "## Task2: Loss Functions - dataset2\n",
    "Loss functions:\n",
    "- L1 Loss:MAE\n",
    "- L2 Loss:MSE"
   ]
  },
  {
   "cell_type": "code",
   "execution_count": 23,
   "id": "bc7a3300",
   "metadata": {},
   "outputs": [
    {
     "data": {
      "text/plain": [
       "316    4060000\n",
       "77     6650000\n",
       "360    3710000\n",
       "90     6440000\n",
       "493    2800000\n",
       "        ...   \n",
       "15     9100000\n",
       "357    3773000\n",
       "39     7910000\n",
       "54     7350000\n",
       "155    5530000\n",
       "Name: price, Length: 109, dtype: int64"
      ]
     },
     "execution_count": 23,
     "metadata": {},
     "output_type": "execute_result"
    }
   ],
   "source": [
    "y_test"
   ]
  },
  {
   "cell_type": "code",
   "execution_count": 24,
   "id": "b4484871",
   "metadata": {},
   "outputs": [
    {
     "data": {
      "text/plain": [
       "array([5360180.        , 7287070.        , 3754878.75      ,\n",
       "       4518220.        , 3748885.        , 3432660.        ,\n",
       "       5070240.        , 5032580.        , 2572220.        ,\n",
       "       2822893.5       , 9952209.4       , 3347465.        ,\n",
       "       3023883.33333333, 3469340.        , 3561320.        ,\n",
       "       3912510.        , 3305785.        , 4852645.        ,\n",
       "       3669330.        , 4101405.        , 5433260.        ,\n",
       "       5932920.        , 3067236.66666667, 3658130.        ,\n",
       "       4722200.        , 6532505.        , 3083290.        ,\n",
       "       4601170.        , 6330240.        , 3258150.        ,\n",
       "       5765550.        , 3182340.        , 6748420.        ,\n",
       "       4366460.        , 2947875.        , 6350050.        ,\n",
       "       4867170.        , 3685920.        , 3106670.        ,\n",
       "       4171650.        , 4146100.        , 2857015.        ,\n",
       "       7453390.        , 4207210.        , 4011070.        ,\n",
       "       4339300.        , 7316050.        , 4098360.        ,\n",
       "       3011960.        , 3073770.        , 8131509.4       ,\n",
       "       2584050.        , 4008690.        , 4519130.        ,\n",
       "       3275510.        , 2830565.5       , 6885935.        ,\n",
       "       3006430.        , 5087460.        , 3127536.66666667,\n",
       "       4005960.        , 3581760.        , 4540480.        ,\n",
       "       4529630.        , 3857910.        , 4882780.        ,\n",
       "       6591270.        , 2930130.        , 6181595.        ,\n",
       "       5002340.        , 3851330.        , 5619880.        ,\n",
       "       4826080.        , 7479500.        , 2973390.        ,\n",
       "       5160960.        , 4285190.        , 4572190.        ,\n",
       "       4836860.        , 4599840.        , 8357399.4       ,\n",
       "       4252430.        , 5449885.        , 5894420.        ,\n",
       "       3061100.        , 5744235.        , 2954840.        ,\n",
       "       4101790.        , 8694707.        , 8796480.        ,\n",
       "       3413756.5       , 5803980.        , 3701530.        ,\n",
       "       3661175.        , 9520350.        , 4358340.        ,\n",
       "       4890830.        , 6186740.        , 4303075.        ,\n",
       "       6110475.        , 4309200.        , 6777470.        ,\n",
       "       3854410.        , 4272730.        , 6812295.        ,\n",
       "       5391995.        , 7343700.        , 7322070.        ,\n",
       "       6512835.        ])"
      ]
     },
     "execution_count": 24,
     "metadata": {},
     "output_type": "execute_result"
    }
   ],
   "source": [
    "y_pred"
   ]
  },
  {
   "cell_type": "code",
   "execution_count": 25,
   "id": "9eb80ffe",
   "metadata": {},
   "outputs": [
    {
     "name": "stdout",
     "output_type": "stream",
     "text": [
      "Mean Squared Error: 1959323004717.2698\n",
      "Mean Absolute Error: 1021151.0811926605\n"
     ]
    }
   ],
   "source": [
    "from sklearn.metrics import mean_squared_error, mean_absolute_error,r2_score\n",
    "mse2 = mean_squared_error(y_test, y_pred)\n",
    "print(f'Mean Squared Error: {mse2}')\n",
    "\n",
    "mae2 = mean_absolute_error(y_test, y_pred)\n",
    "print(f'Mean Absolute Error: {mae2}')"
   ]
  },
  {
   "cell_type": "markdown",
   "id": "e7c302b4",
   "metadata": {},
   "source": [
    "## Task3: Comparison of Loss Functions - dataset2"
   ]
  },
  {
   "cell_type": "code",
   "execution_count": 26,
   "id": "eab3e0d5",
   "metadata": {},
   "outputs": [
    {
     "data": {
      "image/png": "[encoded data removed]",
      "text/plain": [
       "<Figure size 640x480 with 1 Axes>"
      ]
     },
     "metadata": {},
     "output_type": "display_data"
    }
   ],
   "source": [
    "import matplotlib.pyplot as plt\n",
    "labels = ['Mean Squared Error', 'Mean Absolute Error']\n",
    "values = [mse2, mae2]\n",
    "\n",
    "plt.bar(labels, values, color=['blue', 'green'])\n",
    "plt.ylabel('Error')\n",
    "plt.title('Comparison of Mean Squared Error and Mean Absolute Error')\n",
    "plt.show()"
   ]
  },
  {
   "cell_type": "markdown",
   "id": "52dcfd89",
   "metadata": {},
   "source": [
    "## Task4: Metrics assement - dataset2"
   ]
  },
  {
   "cell_type": "code",
   "execution_count": 27,
   "id": "b119c737",
   "metadata": {},
   "outputs": [
    {
     "name": "stdout",
     "output_type": "stream",
     "text": [
      "R2 Score: 0.6123660550314123\n"
     ]
    }
   ],
   "source": [
    "# R2 Score\n",
    "r2 = r2_score(y_test, y_pred)\n",
    "print(f'R2 Score: {r2}')"
   ]
  },
  {
   "cell_type": "markdown",
   "id": "eea57d47",
   "metadata": {},
   "source": [
    "# Dataset3: wine"
   ]
  },
  {
   "cell_type": "code",
   "execution_count": 28,
   "id": "08d70d60",
   "metadata": {},
   "outputs": [],
   "source": [
    "import pandas as pd\n",
    "from sklearn.model_selection import train_test_split\n",
    "from sklearn.ensemble import RandomForestRegressor\n",
    "from sklearn.metrics import mean_squared_error"
   ]
  },
  {
   "cell_type": "code",
   "execution_count": 29,
   "id": "f8d13c74",
   "metadata": {},
   "outputs": [
    {
     "data": {
      "text/plain": [
       "19     13.64\n",
       "45     14.21\n",
       "140    12.93\n",
       "30     13.73\n",
       "67     12.37\n",
       "16     14.30\n",
       "119    12.00\n",
       "174    13.40\n",
       "109    11.61\n",
       "141    13.36\n",
       "24     13.50\n",
       "150    13.50\n",
       "41     13.41\n",
       "118    12.77\n",
       "15     13.63\n",
       "111    12.52\n",
       "113    11.41\n",
       "82     12.08\n",
       "9      13.86\n",
       "114    12.08\n",
       "18     14.19\n",
       "66     13.11\n",
       "60     12.33\n",
       "169    13.40\n",
       "171    12.77\n",
       "164    13.78\n",
       "117    12.42\n",
       "65     12.37\n",
       "90     12.08\n",
       "55     13.56\n",
       "29     14.02\n",
       "128    12.37\n",
       "145    13.16\n",
       "31     13.58\n",
       "12     13.75\n",
       "42     13.88\n",
       "Name: alcohol, dtype: float64"
      ]
     },
     "execution_count": 29,
     "metadata": {},
     "output_type": "execute_result"
    }
   ],
   "source": [
    "df3 = pd.read_csv(\"wine_data.csv\")\n",
    "X = df3.drop('alcohol', axis=1)\n",
    "y = df3['alcohol']\n",
    "X_train, X_test, y_train, y_test = train_test_split(X, y, test_size=0.2, random_state=42)\n",
    "y_test"
   ]
  },
  {
   "cell_type": "code",
   "execution_count": 30,
   "id": "868a2945",
   "metadata": {},
   "outputs": [
    {
     "data": {
      "text/html": [
       "<style>#sk-container-id-3 {color: black;}#sk-container-id-3 pre{padding: 0;}#sk-container-id-3 div.sk-toggleable {background-color: white;}#sk-container-id-3 label.sk-toggleable__label {cursor: pointer;display: block;width: 100%;margin-bottom: 0;padding: 0.3em;box-sizing: border-box;text-align: center;}#sk-container-id-3 label.sk-toggleable__label-arrow:before {content: \"▸\";float: left;margin-right: 0.25em;color: #696969;}#sk-container-id-3 label.sk-toggleable__label-arrow:hover:before {color: black;}#sk-container-id-3 div.sk-estimator:hover label.sk-toggleable__label-arrow:before {color: black;}#sk-container-id-3 div.sk-toggleable__content {max-height: 0;max-width: 0;overflow: hidden;text-align: left;background-color: #f0f8ff;}#sk-container-id-3 div.sk-toggleable__content pre {margin: 0.2em;color: black;border-radius: 0.25em;background-color: #f0f8ff;}#sk-container-id-3 input.sk-toggleable__control:checked~div.sk-toggleable__content {max-height: 200px;max-width: 100%;overflow: auto;}#sk-container-id-3 input.sk-toggleable__control:checked~label.sk-toggleable__label-arrow:before {content: \"▾\";}#sk-container-id-3 div.sk-estimator input.sk-toggleable__control:checked~label.sk-toggleable__label {background-color: #d4ebff;}#sk-container-id-3 div.sk-label input.sk-toggleable__control:checked~label.sk-toggleable__label {background-color: #d4ebff;}#sk-container-id-3 input.sk-hidden--visually {border: 0;clip: rect(1px 1px 1px 1px);clip: rect(1px, 1px, 1px, 1px);height: 1px;margin: -1px;overflow: hidden;padding: 0;position: absolute;width: 1px;}#sk-container-id-3 div.sk-estimator {font-family: monospace;background-color: #f0f8ff;border: 1px dotted black;border-radius: 0.25em;box-sizing: border-box;margin-bottom: 0.5em;}#sk-container-id-3 div.sk-estimator:hover {background-color: #d4ebff;}#sk-container-id-3 div.sk-parallel-item::after {content: \"\";width: 100%;border-bottom: 1px solid gray;flex-grow: 1;}#sk-container-id-3 div.sk-label:hover label.sk-toggleable__label {background-color: #d4ebff;}#sk-container-id-3 div.sk-serial::before {content: \"\";position: absolute;border-left: 1px solid gray;box-sizing: border-box;top: 0;bottom: 0;left: 50%;z-index: 0;}#sk-container-id-3 div.sk-serial {display: flex;flex-direction: column;align-items: center;background-color: white;padding-right: 0.2em;padding-left: 0.2em;position: relative;}#sk-container-id-3 div.sk-item {position: relative;z-index: 1;}#sk-container-id-3 div.sk-parallel {display: flex;align-items: stretch;justify-content: center;background-color: white;position: relative;}#sk-container-id-3 div.sk-item::before, #sk-container-id-3 div.sk-parallel-item::before {content: \"\";position: absolute;border-left: 1px solid gray;box-sizing: border-box;top: 0;bottom: 0;left: 50%;z-index: -1;}#sk-container-id-3 div.sk-parallel-item {display: flex;flex-direction: column;z-index: 1;position: relative;background-color: white;}#sk-container-id-3 div.sk-parallel-item:first-child::after {align-self: flex-end;width: 50%;}#sk-container-id-3 div.sk-parallel-item:last-child::after {align-self: flex-start;width: 50%;}#sk-container-id-3 div.sk-parallel-item:only-child::after {width: 0;}#sk-container-id-3 div.sk-dashed-wrapped {border: 1px dashed gray;margin: 0 0.4em 0.5em 0.4em;box-sizing: border-box;padding-bottom: 0.4em;background-color: white;}#sk-container-id-3 div.sk-label label {font-family: monospace;font-weight: bold;display: inline-block;line-height: 1.2em;}#sk-container-id-3 div.sk-label-container {text-align: center;}#sk-container-id-3 div.sk-container {/* jupyter's `normalize.less` sets `[hidden] { display: none; }` but bootstrap.min.css set `[hidden] { display: none !important; }` so we also need the `!important` here to be able to override the default hidden behavior on the sphinx rendered scikit-learn.org. See: https://github.com/scikit-learn/scikit-learn/issues/21755 */display: inline-block !important;position: relative;}#sk-container-id-3 div.sk-text-repr-fallback {display: none;}</style><div id=\"sk-container-id-3\" class=\"sk-top-container\"><div class=\"sk-text-repr-fallback\"><pre>RandomForestRegressor(random_state=42)</pre><b>In a Jupyter environment, please rerun this cell to show the HTML representation or trust the notebook. <br />On GitHub, the HTML representation is unable to render, please try loading this page with nbviewer.org.</b></div><div class=\"sk-container\" hidden><div class=\"sk-item\"><div class=\"sk-estimator sk-toggleable\"><input class=\"sk-toggleable__control sk-hidden--visually\" id=\"sk-estimator-id-9\" type=\"checkbox\" checked><label for=\"sk-estimator-id-9\" class=\"sk-toggleable__label sk-toggleable__label-arrow\">RandomForestRegressor</label><div class=\"sk-toggleable__content\"><pre>RandomForestRegressor(random_state=42)</pre></div></div></div></div></div>"
      ],
      "text/plain": [
       "RandomForestRegressor(random_state=42)"
      ]
     },
     "execution_count": 30,
     "metadata": {},
     "output_type": "execute_result"
    }
   ],
   "source": [
    "model = RandomForestRegressor(n_estimators=100, random_state=42)\n",
    "model.fit(X_train, y_train)"
   ]
  },
  {
   "cell_type": "code",
   "execution_count": 31,
   "id": "325b2e6e",
   "metadata": {},
   "outputs": [
    {
     "data": {
      "text/plain": [
       "array([13.5657, 13.7175, 13.1061, 13.7727, 12.9267, 13.8558, 11.8691,\n",
       "       13.3704, 12.1046, 12.9584, 13.1401, 13.0072, 13.2111, 12.3696,\n",
       "       13.8205, 12.1131, 12.0648, 12.0747, 13.9237, 12.1339, 13.8604,\n",
       "       13.2594, 12.7632, 13.2808, 13.3003, 13.0669, 12.2824, 13.2666,\n",
       "       12.2095, 13.8066, 13.6346, 12.166 , 12.8508, 13.8371, 14.0477,\n",
       "       13.7861])"
      ]
     },
     "execution_count": 31,
     "metadata": {},
     "output_type": "execute_result"
    }
   ],
   "source": [
    "y_pred = model.predict(X_test)\n",
    "y_pred"
   ]
  },
  {
   "cell_type": "markdown",
   "id": "557508de",
   "metadata": {},
   "source": [
    "## Task2: Loss Functions - dataset3\n",
    "Loss functions:\n",
    "- L1 Loss:MAE\n",
    "- L2 Loss:MSE"
   ]
  },
  {
   "cell_type": "code",
   "execution_count": 32,
   "id": "6f4b5a76",
   "metadata": {
    "scrolled": true
   },
   "outputs": [
    {
     "name": "stdout",
     "output_type": "stream",
     "text": [
      "Mean Squared Error: 0.1359499030555557\n",
      "Mean Absolute Error: 0.30285277777777786\n"
     ]
    }
   ],
   "source": [
    "from sklearn.metrics import mean_squared_error, mean_absolute_error,r2_score\n",
    "mse3 = mean_squared_error(y_test, y_pred)\n",
    "print(f'Mean Squared Error: {mse3}')\n",
    "\n",
    "mae3 = mean_absolute_error(y_test, y_pred)\n",
    "print(f'Mean Absolute Error: {mae3}')"
   ]
  },
  {
   "cell_type": "markdown",
   "id": "c8ec0975",
   "metadata": {},
   "source": [
    "## Task3: Comparison of Loss Functions - dataset3"
   ]
  },
  {
   "cell_type": "code",
   "execution_count": 33,
   "id": "564cf88e",
   "metadata": {},
   "outputs": [
    {
     "data": {
      "image/png": "[encoded data removed]",
      "text/plain": [
       "<Figure size 640x480 with 1 Axes>"
      ]
     },
     "metadata": {},
     "output_type": "display_data"
    }
   ],
   "source": [
    "labels = ['Mean Squared Error', 'Mean Absolute Error']\n",
    "values = [mse3, mae3]\n",
    "\n",
    "plt.bar(labels, values, color=['red', 'green'])\n",
    "plt.ylabel('Error')\n",
    "plt.title('Comparison of Mean Squared Error and Mean Absolute Error')\n",
    "plt.show()"
   ]
  },
  {
   "cell_type": "markdown",
   "id": "cd85306d",
   "metadata": {},
   "source": [
    "## Task4: Metrics assement - dataset3"
   ]
  },
  {
   "cell_type": "code",
   "execution_count": 34,
   "id": "edb79cfc",
   "metadata": {},
   "outputs": [
    {
     "name": "stdout",
     "output_type": "stream",
     "text": [
      "R2 Score: 0.7722918751382859\n"
     ]
    }
   ],
   "source": [
    "# R2 Score\n",
    "r2 = r2_score(y_test, y_pred)\n",
    "print(f'R2 Score: {r2}')"
   ]
  },
  {
   "cell_type": "markdown",
   "id": "c190bea0-633a-41c9-867c-af24dd51d726",
   "metadata": {},
   "source": [
    "# Dataset4: MASTER_PhonesmartdataAll_CCI_AdvStats"
   ]
  },
  {
   "cell_type": "markdown",
   "id": "68b633de-8807-40d1-8489-0e96f137ec85",
   "metadata": {},
   "source": [
    "## Task2: Loss Functions - dataset4\n",
    "Loss functions:\n",
    "- L1 Loss:MAE\n",
    "- L2 Loss:MSE"
   ]
  },
  {
   "cell_type": "code",
   "execution_count": 2,
   "id": "eeb8c198-1e18-47ef-a043-01265fda7b31",
   "metadata": {},
   "outputs": [
    {
     "name": "stdout",
     "output_type": "stream",
     "text": [
      "L1 Loss (Mean Absolute Error): 840.9704980538412\n",
      "L2 Loss (Mean Squared Error): 736774.2495921083\n"
     ]
    }
   ],
   "source": [
    "import pandas as pd\n",
    "import numpy as np\n",
    "from sklearn.metrics import mean_absolute_error, mean_squared_error, log_loss, hinge_loss\n",
    "import tensorflow as tf\n",
    "\n",
    "# Load the dataset\n",
    "phonesmart_csv = pd.read_csv('MASTER_PhonesmartdataAll_CCI_AdvStats.csv')\n",
    "\n",
    "# Define target column\n",
    "target_column_name = 'VS_RT_correct_Single'\n",
    "true_values = phonesmart_csv[target_column_name].values\n",
    "\n",
    "# Simulate predictions\n",
    "num_samples = len(phonesmart_csv)\n",
    "predictions = np.random.rand(num_samples)\n",
    "\n",
    "# Calculate L1 Loss\n",
    "l1_loss = mean_absolute_error(true_values, predictions)\n",
    "print(\"L1 Loss (Mean Absolute Error):\", l1_loss)\n",
    "\n",
    "# Calculate L2 Loss\n",
    "l2_loss = mean_squared_error(true_values, predictions)\n",
    "print(\"L2 Loss (Mean Squared Error):\", l2_loss)"
   ]
  },
  {
   "cell_type": "markdown",
   "id": "94bc8d35-ffb4-4142-bc05-9a64291841b8",
   "metadata": {},
   "source": [
    "## Task3: Comparison of Loss Functions - dataset4"
   ]
  },
  {
   "cell_type": "code",
   "execution_count": 6,
   "id": "cbc6bafa-3dbb-4e34-8ee2-c69492239bdc",
   "metadata": {},
   "outputs": [
    {
     "data": {
      "image/png": "[encoded data removed]",
      "text/plain": [
       "<Figure size 640x480 with 1 Axes>"
      ]
     },
     "metadata": {},
     "output_type": "display_data"
    }
   ],
   "source": [
    "import numpy as np\n",
    "from sklearn.metrics import log_loss, mean_absolute_error, mean_squared_error\n",
    "import matplotlib.pyplot as plt\n",
    "\n",
    "def plot_classification_losses(num_samples, num_classes, title):\n",
    "    true_values = np.random.randint(0, 2, (num_samples, num_classes))\n",
    "    predictions = np.random.rand(num_samples, num_classes)\n",
    "    log_loss_value = log_loss(true_values, predictions)\n",
    "    categorical_loss = -np.sum(true_values * np.log(predictions + 1e-15)) / num_samples\n",
    "    plt.bar(['Log Loss', 'Categorical Cross-Entropy'], [log_loss_value, categorical_loss])\n",
    "    plt.title(title)\n",
    "    plt.ylabel('Loss Value')\n",
    "    plt.show()\n",
    "    return log_loss_value, categorical_loss\n",
    "\n",
    "# Function to calculate and plot losses for regression tasks (L1 and L2 Loss)\n",
    "def plot_regression_losses(num_samples, true_values, title):\n",
    "    predictions = np.random.rand(num_samples)\n",
    "    l1_loss = mean_absolute_error(true_values, predictions)\n",
    "    l2_loss = mean_squared_error(true_values, predictions)\n",
    "    plt.bar(['L1 Loss (MAE)', 'L2 Loss (MSE)'], [l1_loss, l2_loss])\n",
    "    plt.title(title)\n",
    "    plt.ylabel('Loss Value')\n",
    "    plt.show()\n",
    "    return l1_loss, l2_loss\n",
    "\n",
    "# Calculate and plot losses for each dataset with titles\n",
    "l1_loss_phonesmart, l2_loss_phonesmart = plot_regression_losses(len(phonesmart_csv), phonesmart_csv['VS_RT_correct_Single'], \"Loss Comparison for MASTER_PhonesmartdataAll_CCI_AdvStats.csv\")"
   ]
  },
  {
   "cell_type": "markdown",
   "id": "a7ec6bb4-8daa-47a4-9515-1b39ab0921e5",
   "metadata": {},
   "source": [
    "## Task4: Metrics assement - dataset4"
   ]
  },
  {
   "cell_type": "code",
   "execution_count": 5,
   "id": "8a970842-1580-4fc3-9bc4-70e0c1282b5f",
   "metadata": {},
   "outputs": [
    {
     "name": "stdout",
     "output_type": "stream",
     "text": [
      "Smartphone Data Dataset Metrics:\n",
      "MAE: 0.35341686979277787\n",
      "MSE: 0.18248100047547477\n",
      "RMSE: 0.42717794942561677\n",
      "R-squared: -1.2224435108637501\n"
     ]
    }
   ],
   "source": [
    "from sklearn.metrics import accuracy_score, precision_score, recall_score, f1_score, confusion_matrix, roc_auc_score\n",
    "from sklearn.metrics import mean_absolute_error, mean_squared_error, r2_score\n",
    "import numpy as np\n",
    "\n",
    "true_values_phonesmart = np.random.rand(100) \n",
    "predicted_values_phonesmart = np.random.rand(100) \n",
    "\n",
    "# Calculate metrics for MASTER_PhonesmartdataAll_CCI_AdvStats.csv\n",
    "mae_phonesmart = mean_absolute_error(true_values_phonesmart, predicted_values_phonesmart)\n",
    "mse_phonesmart = mean_squared_error(true_values_phonesmart, predicted_values_phonesmart)\n",
    "rmse_phonesmart = np.sqrt(mse_phonesmart)\n",
    "r2_phonesmart = r2_score(true_values_phonesmart, predicted_values_phonesmart)\n",
    "\n",
    "# Output example metrics for MASTER_PhonesmartdataAll_CCI_AdvStats.csv\n",
    "print(\"Smartphone Data Dataset Metrics:\")\n",
    "print(\"MAE:\", mae_phonesmart)\n",
    "print(\"MSE:\", mse_phonesmart)\n",
    "print(\"RMSE:\", rmse_phonesmart)\n",
    "print(\"R-squared:\", r2_phonesmart)\n"
   ]
  },
  {
   "cell_type": "code",
   "execution_count": null,
   "id": "865722d6-708c-4e1f-b824-76db682aff2f",
   "metadata": {},
   "outputs": [],
   "source": []
  }
 ],
 "metadata": {
  "kernelspec": {
   "display_name": "Python 3 (ipykernel)",
   "language": "python",
   "name": "python3"
  },
  "language_info": {
   "codemirror_mode": {
    "name": "ipython",
    "version": 3
   },
   "file_extension": ".py",
   "mimetype": "text/x-python",
   "name": "python",
   "nbconvert_exporter": "python",
   "pygments_lexer": "ipython3",
   "version": "3.9.18"
  }
 },
 "nbformat": 4,
 "nbformat_minor": 5
}
